{
  "nbformat": 4,
  "nbformat_minor": 0,
  "metadata": {
    "colab": {
      "provenance": [],
      "machine_shape": "hm"
    },
    "kernelspec": {
      "name": "python3",
      "display_name": "Python 3"
    },
    "language_info": {
      "name": "python"
    },
    "widgets": {
      "application/vnd.jupyter.widget-state+json": {
        "4695f8071a43402e8ad8fcf87b738093": {
          "model_module": "@jupyter-widgets/controls",
          "model_name": "HBoxModel",
          "model_module_version": "1.5.0",
          "state": {
            "_dom_classes": [],
            "_model_module": "@jupyter-widgets/controls",
            "_model_module_version": "1.5.0",
            "_model_name": "HBoxModel",
            "_view_count": null,
            "_view_module": "@jupyter-widgets/controls",
            "_view_module_version": "1.5.0",
            "_view_name": "HBoxView",
            "box_style": "",
            "children": [
              "IPY_MODEL_137af67636764c829bfac0cd038af06d",
              "IPY_MODEL_a5803a9204ed495687967fcbed67410e",
              "IPY_MODEL_5566a7cb9bc64287adbf2af3e6e7fe24"
            ],
            "layout": "IPY_MODEL_a1e34262a37e48bc8c9c27bc95fcd6a4"
          }
        },
        "137af67636764c829bfac0cd038af06d": {
          "model_module": "@jupyter-widgets/controls",
          "model_name": "HTMLModel",
          "model_module_version": "1.5.0",
          "state": {
            "_dom_classes": [],
            "_model_module": "@jupyter-widgets/controls",
            "_model_module_version": "1.5.0",
            "_model_name": "HTMLModel",
            "_view_count": null,
            "_view_module": "@jupyter-widgets/controls",
            "_view_module_version": "1.5.0",
            "_view_name": "HTMLView",
            "description": "",
            "description_tooltip": null,
            "layout": "IPY_MODEL_425fed41605e4c138fd3495baba86456",
            "placeholder": "​",
            "style": "IPY_MODEL_1c9d770a3e79404eb9edc2e2659ad5d9",
            "value": "config.json: 100%"
          }
        },
        "a5803a9204ed495687967fcbed67410e": {
          "model_module": "@jupyter-widgets/controls",
          "model_name": "FloatProgressModel",
          "model_module_version": "1.5.0",
          "state": {
            "_dom_classes": [],
            "_model_module": "@jupyter-widgets/controls",
            "_model_module_version": "1.5.0",
            "_model_name": "FloatProgressModel",
            "_view_count": null,
            "_view_module": "@jupyter-widgets/controls",
            "_view_module_version": "1.5.0",
            "_view_name": "ProgressView",
            "bar_style": "success",
            "description": "",
            "description_tooltip": null,
            "layout": "IPY_MODEL_6c1d146882e84cd299bb20823ce6d4ed",
            "max": 736,
            "min": 0,
            "orientation": "horizontal",
            "style": "IPY_MODEL_5d0658d241fc4c7ab3ddcf7767ece010",
            "value": 736
          }
        },
        "5566a7cb9bc64287adbf2af3e6e7fe24": {
          "model_module": "@jupyter-widgets/controls",
          "model_name": "HTMLModel",
          "model_module_version": "1.5.0",
          "state": {
            "_dom_classes": [],
            "_model_module": "@jupyter-widgets/controls",
            "_model_module_version": "1.5.0",
            "_model_name": "HTMLModel",
            "_view_count": null,
            "_view_module": "@jupyter-widgets/controls",
            "_view_module_version": "1.5.0",
            "_view_name": "HTMLView",
            "description": "",
            "description_tooltip": null,
            "layout": "IPY_MODEL_a27c5cadc69f4b07a44f17bd3f2603b2",
            "placeholder": "​",
            "style": "IPY_MODEL_f00d1cf9b1a44658ba46b7ee6fb9e057",
            "value": " 736/736 [00:00&lt;00:00, 65.0kB/s]"
          }
        },
        "a1e34262a37e48bc8c9c27bc95fcd6a4": {
          "model_module": "@jupyter-widgets/base",
          "model_name": "LayoutModel",
          "model_module_version": "1.2.0",
          "state": {
            "_model_module": "@jupyter-widgets/base",
            "_model_module_version": "1.2.0",
            "_model_name": "LayoutModel",
            "_view_count": null,
            "_view_module": "@jupyter-widgets/base",
            "_view_module_version": "1.2.0",
            "_view_name": "LayoutView",
            "align_content": null,
            "align_items": null,
            "align_self": null,
            "border": null,
            "bottom": null,
            "display": null,
            "flex": null,
            "flex_flow": null,
            "grid_area": null,
            "grid_auto_columns": null,
            "grid_auto_flow": null,
            "grid_auto_rows": null,
            "grid_column": null,
            "grid_gap": null,
            "grid_row": null,
            "grid_template_areas": null,
            "grid_template_columns": null,
            "grid_template_rows": null,
            "height": null,
            "justify_content": null,
            "justify_items": null,
            "left": null,
            "margin": null,
            "max_height": null,
            "max_width": null,
            "min_height": null,
            "min_width": null,
            "object_fit": null,
            "object_position": null,
            "order": null,
            "overflow": null,
            "overflow_x": null,
            "overflow_y": null,
            "padding": null,
            "right": null,
            "top": null,
            "visibility": null,
            "width": null
          }
        },
        "425fed41605e4c138fd3495baba86456": {
          "model_module": "@jupyter-widgets/base",
          "model_name": "LayoutModel",
          "model_module_version": "1.2.0",
          "state": {
            "_model_module": "@jupyter-widgets/base",
            "_model_module_version": "1.2.0",
            "_model_name": "LayoutModel",
            "_view_count": null,
            "_view_module": "@jupyter-widgets/base",
            "_view_module_version": "1.2.0",
            "_view_name": "LayoutView",
            "align_content": null,
            "align_items": null,
            "align_self": null,
            "border": null,
            "bottom": null,
            "display": null,
            "flex": null,
            "flex_flow": null,
            "grid_area": null,
            "grid_auto_columns": null,
            "grid_auto_flow": null,
            "grid_auto_rows": null,
            "grid_column": null,
            "grid_gap": null,
            "grid_row": null,
            "grid_template_areas": null,
            "grid_template_columns": null,
            "grid_template_rows": null,
            "height": null,
            "justify_content": null,
            "justify_items": null,
            "left": null,
            "margin": null,
            "max_height": null,
            "max_width": null,
            "min_height": null,
            "min_width": null,
            "object_fit": null,
            "object_position": null,
            "order": null,
            "overflow": null,
            "overflow_x": null,
            "overflow_y": null,
            "padding": null,
            "right": null,
            "top": null,
            "visibility": null,
            "width": null
          }
        },
        "1c9d770a3e79404eb9edc2e2659ad5d9": {
          "model_module": "@jupyter-widgets/controls",
          "model_name": "DescriptionStyleModel",
          "model_module_version": "1.5.0",
          "state": {
            "_model_module": "@jupyter-widgets/controls",
            "_model_module_version": "1.5.0",
            "_model_name": "DescriptionStyleModel",
            "_view_count": null,
            "_view_module": "@jupyter-widgets/base",
            "_view_module_version": "1.2.0",
            "_view_name": "StyleView",
            "description_width": ""
          }
        },
        "6c1d146882e84cd299bb20823ce6d4ed": {
          "model_module": "@jupyter-widgets/base",
          "model_name": "LayoutModel",
          "model_module_version": "1.2.0",
          "state": {
            "_model_module": "@jupyter-widgets/base",
            "_model_module_version": "1.2.0",
            "_model_name": "LayoutModel",
            "_view_count": null,
            "_view_module": "@jupyter-widgets/base",
            "_view_module_version": "1.2.0",
            "_view_name": "LayoutView",
            "align_content": null,
            "align_items": null,
            "align_self": null,
            "border": null,
            "bottom": null,
            "display": null,
            "flex": null,
            "flex_flow": null,
            "grid_area": null,
            "grid_auto_columns": null,
            "grid_auto_flow": null,
            "grid_auto_rows": null,
            "grid_column": null,
            "grid_gap": null,
            "grid_row": null,
            "grid_template_areas": null,
            "grid_template_columns": null,
            "grid_template_rows": null,
            "height": null,
            "justify_content": null,
            "justify_items": null,
            "left": null,
            "margin": null,
            "max_height": null,
            "max_width": null,
            "min_height": null,
            "min_width": null,
            "object_fit": null,
            "object_position": null,
            "order": null,
            "overflow": null,
            "overflow_x": null,
            "overflow_y": null,
            "padding": null,
            "right": null,
            "top": null,
            "visibility": null,
            "width": null
          }
        },
        "5d0658d241fc4c7ab3ddcf7767ece010": {
          "model_module": "@jupyter-widgets/controls",
          "model_name": "ProgressStyleModel",
          "model_module_version": "1.5.0",
          "state": {
            "_model_module": "@jupyter-widgets/controls",
            "_model_module_version": "1.5.0",
            "_model_name": "ProgressStyleModel",
            "_view_count": null,
            "_view_module": "@jupyter-widgets/base",
            "_view_module_version": "1.2.0",
            "_view_name": "StyleView",
            "bar_color": null,
            "description_width": ""
          }
        },
        "a27c5cadc69f4b07a44f17bd3f2603b2": {
          "model_module": "@jupyter-widgets/base",
          "model_name": "LayoutModel",
          "model_module_version": "1.2.0",
          "state": {
            "_model_module": "@jupyter-widgets/base",
            "_model_module_version": "1.2.0",
            "_model_name": "LayoutModel",
            "_view_count": null,
            "_view_module": "@jupyter-widgets/base",
            "_view_module_version": "1.2.0",
            "_view_name": "LayoutView",
            "align_content": null,
            "align_items": null,
            "align_self": null,
            "border": null,
            "bottom": null,
            "display": null,
            "flex": null,
            "flex_flow": null,
            "grid_area": null,
            "grid_auto_columns": null,
            "grid_auto_flow": null,
            "grid_auto_rows": null,
            "grid_column": null,
            "grid_gap": null,
            "grid_row": null,
            "grid_template_areas": null,
            "grid_template_columns": null,
            "grid_template_rows": null,
            "height": null,
            "justify_content": null,
            "justify_items": null,
            "left": null,
            "margin": null,
            "max_height": null,
            "max_width": null,
            "min_height": null,
            "min_width": null,
            "object_fit": null,
            "object_position": null,
            "order": null,
            "overflow": null,
            "overflow_x": null,
            "overflow_y": null,
            "padding": null,
            "right": null,
            "top": null,
            "visibility": null,
            "width": null
          }
        },
        "f00d1cf9b1a44658ba46b7ee6fb9e057": {
          "model_module": "@jupyter-widgets/controls",
          "model_name": "DescriptionStyleModel",
          "model_module_version": "1.5.0",
          "state": {
            "_model_module": "@jupyter-widgets/controls",
            "_model_module_version": "1.5.0",
            "_model_name": "DescriptionStyleModel",
            "_view_count": null,
            "_view_module": "@jupyter-widgets/base",
            "_view_module_version": "1.2.0",
            "_view_name": "StyleView",
            "description_width": ""
          }
        },
        "a6033f1f31bc4305939997c711bec544": {
          "model_module": "@jupyter-widgets/controls",
          "model_name": "HBoxModel",
          "model_module_version": "1.5.0",
          "state": {
            "_dom_classes": [],
            "_model_module": "@jupyter-widgets/controls",
            "_model_module_version": "1.5.0",
            "_model_name": "HBoxModel",
            "_view_count": null,
            "_view_module": "@jupyter-widgets/controls",
            "_view_module_version": "1.5.0",
            "_view_name": "HBoxView",
            "box_style": "",
            "children": [
              "IPY_MODEL_3812846c6c2e49a1835cff33c5d9e139",
              "IPY_MODEL_c3bec5b698f842a391169964bf9bf95a",
              "IPY_MODEL_587288035f544b7dbb51e71e50a7cbff"
            ],
            "layout": "IPY_MODEL_b9f48f741a79492ab3648642be855e44"
          }
        },
        "3812846c6c2e49a1835cff33c5d9e139": {
          "model_module": "@jupyter-widgets/controls",
          "model_name": "HTMLModel",
          "model_module_version": "1.5.0",
          "state": {
            "_dom_classes": [],
            "_model_module": "@jupyter-widgets/controls",
            "_model_module_version": "1.5.0",
            "_model_name": "HTMLModel",
            "_view_count": null,
            "_view_module": "@jupyter-widgets/controls",
            "_view_module_version": "1.5.0",
            "_view_name": "HTMLView",
            "description": "",
            "description_tooltip": null,
            "layout": "IPY_MODEL_f820276130e14d3e890271046b2e7562",
            "placeholder": "​",
            "style": "IPY_MODEL_0b75935e606941769123a117b9348c0c",
            "value": "model.safetensors: 100%"
          }
        },
        "c3bec5b698f842a391169964bf9bf95a": {
          "model_module": "@jupyter-widgets/controls",
          "model_name": "FloatProgressModel",
          "model_module_version": "1.5.0",
          "state": {
            "_dom_classes": [],
            "_model_module": "@jupyter-widgets/controls",
            "_model_module_version": "1.5.0",
            "_model_name": "FloatProgressModel",
            "_view_count": null,
            "_view_module": "@jupyter-widgets/controls",
            "_view_module_version": "1.5.0",
            "_view_name": "ProgressView",
            "bar_style": "success",
            "description": "",
            "description_tooltip": null,
            "layout": "IPY_MODEL_0aa7e09fb59448d7a6c4e278860e4018",
            "max": 2836578696,
            "min": 0,
            "orientation": "horizontal",
            "style": "IPY_MODEL_f64f22f939174efb807696debb3f4adb",
            "value": 2836578696
          }
        },
        "587288035f544b7dbb51e71e50a7cbff": {
          "model_module": "@jupyter-widgets/controls",
          "model_name": "HTMLModel",
          "model_module_version": "1.5.0",
          "state": {
            "_dom_classes": [],
            "_model_module": "@jupyter-widgets/controls",
            "_model_module_version": "1.5.0",
            "_model_name": "HTMLModel",
            "_view_count": null,
            "_view_module": "@jupyter-widgets/controls",
            "_view_module_version": "1.5.0",
            "_view_name": "HTMLView",
            "description": "",
            "description_tooltip": null,
            "layout": "IPY_MODEL_2796ebe97db94317b409e68b7156051d",
            "placeholder": "​",
            "style": "IPY_MODEL_61327550c00d49b1b4803c962611a8dd",
            "value": " 2.84G/2.84G [00:08&lt;00:00, 356MB/s]"
          }
        },
        "b9f48f741a79492ab3648642be855e44": {
          "model_module": "@jupyter-widgets/base",
          "model_name": "LayoutModel",
          "model_module_version": "1.2.0",
          "state": {
            "_model_module": "@jupyter-widgets/base",
            "_model_module_version": "1.2.0",
            "_model_name": "LayoutModel",
            "_view_count": null,
            "_view_module": "@jupyter-widgets/base",
            "_view_module_version": "1.2.0",
            "_view_name": "LayoutView",
            "align_content": null,
            "align_items": null,
            "align_self": null,
            "border": null,
            "bottom": null,
            "display": null,
            "flex": null,
            "flex_flow": null,
            "grid_area": null,
            "grid_auto_columns": null,
            "grid_auto_flow": null,
            "grid_auto_rows": null,
            "grid_column": null,
            "grid_gap": null,
            "grid_row": null,
            "grid_template_areas": null,
            "grid_template_columns": null,
            "grid_template_rows": null,
            "height": null,
            "justify_content": null,
            "justify_items": null,
            "left": null,
            "margin": null,
            "max_height": null,
            "max_width": null,
            "min_height": null,
            "min_width": null,
            "object_fit": null,
            "object_position": null,
            "order": null,
            "overflow": null,
            "overflow_x": null,
            "overflow_y": null,
            "padding": null,
            "right": null,
            "top": null,
            "visibility": null,
            "width": null
          }
        },
        "f820276130e14d3e890271046b2e7562": {
          "model_module": "@jupyter-widgets/base",
          "model_name": "LayoutModel",
          "model_module_version": "1.2.0",
          "state": {
            "_model_module": "@jupyter-widgets/base",
            "_model_module_version": "1.2.0",
            "_model_name": "LayoutModel",
            "_view_count": null,
            "_view_module": "@jupyter-widgets/base",
            "_view_module_version": "1.2.0",
            "_view_name": "LayoutView",
            "align_content": null,
            "align_items": null,
            "align_self": null,
            "border": null,
            "bottom": null,
            "display": null,
            "flex": null,
            "flex_flow": null,
            "grid_area": null,
            "grid_auto_columns": null,
            "grid_auto_flow": null,
            "grid_auto_rows": null,
            "grid_column": null,
            "grid_gap": null,
            "grid_row": null,
            "grid_template_areas": null,
            "grid_template_columns": null,
            "grid_template_rows": null,
            "height": null,
            "justify_content": null,
            "justify_items": null,
            "left": null,
            "margin": null,
            "max_height": null,
            "max_width": null,
            "min_height": null,
            "min_width": null,
            "object_fit": null,
            "object_position": null,
            "order": null,
            "overflow": null,
            "overflow_x": null,
            "overflow_y": null,
            "padding": null,
            "right": null,
            "top": null,
            "visibility": null,
            "width": null
          }
        },
        "0b75935e606941769123a117b9348c0c": {
          "model_module": "@jupyter-widgets/controls",
          "model_name": "DescriptionStyleModel",
          "model_module_version": "1.5.0",
          "state": {
            "_model_module": "@jupyter-widgets/controls",
            "_model_module_version": "1.5.0",
            "_model_name": "DescriptionStyleModel",
            "_view_count": null,
            "_view_module": "@jupyter-widgets/base",
            "_view_module_version": "1.2.0",
            "_view_name": "StyleView",
            "description_width": ""
          }
        },
        "0aa7e09fb59448d7a6c4e278860e4018": {
          "model_module": "@jupyter-widgets/base",
          "model_name": "LayoutModel",
          "model_module_version": "1.2.0",
          "state": {
            "_model_module": "@jupyter-widgets/base",
            "_model_module_version": "1.2.0",
            "_model_name": "LayoutModel",
            "_view_count": null,
            "_view_module": "@jupyter-widgets/base",
            "_view_module_version": "1.2.0",
            "_view_name": "LayoutView",
            "align_content": null,
            "align_items": null,
            "align_self": null,
            "border": null,
            "bottom": null,
            "display": null,
            "flex": null,
            "flex_flow": null,
            "grid_area": null,
            "grid_auto_columns": null,
            "grid_auto_flow": null,
            "grid_auto_rows": null,
            "grid_column": null,
            "grid_gap": null,
            "grid_row": null,
            "grid_template_areas": null,
            "grid_template_columns": null,
            "grid_template_rows": null,
            "height": null,
            "justify_content": null,
            "justify_items": null,
            "left": null,
            "margin": null,
            "max_height": null,
            "max_width": null,
            "min_height": null,
            "min_width": null,
            "object_fit": null,
            "object_position": null,
            "order": null,
            "overflow": null,
            "overflow_x": null,
            "overflow_y": null,
            "padding": null,
            "right": null,
            "top": null,
            "visibility": null,
            "width": null
          }
        },
        "f64f22f939174efb807696debb3f4adb": {
          "model_module": "@jupyter-widgets/controls",
          "model_name": "ProgressStyleModel",
          "model_module_version": "1.5.0",
          "state": {
            "_model_module": "@jupyter-widgets/controls",
            "_model_module_version": "1.5.0",
            "_model_name": "ProgressStyleModel",
            "_view_count": null,
            "_view_module": "@jupyter-widgets/base",
            "_view_module_version": "1.2.0",
            "_view_name": "StyleView",
            "bar_color": null,
            "description_width": ""
          }
        },
        "2796ebe97db94317b409e68b7156051d": {
          "model_module": "@jupyter-widgets/base",
          "model_name": "LayoutModel",
          "model_module_version": "1.2.0",
          "state": {
            "_model_module": "@jupyter-widgets/base",
            "_model_module_version": "1.2.0",
            "_model_name": "LayoutModel",
            "_view_count": null,
            "_view_module": "@jupyter-widgets/base",
            "_view_module_version": "1.2.0",
            "_view_name": "LayoutView",
            "align_content": null,
            "align_items": null,
            "align_self": null,
            "border": null,
            "bottom": null,
            "display": null,
            "flex": null,
            "flex_flow": null,
            "grid_area": null,
            "grid_auto_columns": null,
            "grid_auto_flow": null,
            "grid_auto_rows": null,
            "grid_column": null,
            "grid_gap": null,
            "grid_row": null,
            "grid_template_areas": null,
            "grid_template_columns": null,
            "grid_template_rows": null,
            "height": null,
            "justify_content": null,
            "justify_items": null,
            "left": null,
            "margin": null,
            "max_height": null,
            "max_width": null,
            "min_height": null,
            "min_width": null,
            "object_fit": null,
            "object_position": null,
            "order": null,
            "overflow": null,
            "overflow_x": null,
            "overflow_y": null,
            "padding": null,
            "right": null,
            "top": null,
            "visibility": null,
            "width": null
          }
        },
        "61327550c00d49b1b4803c962611a8dd": {
          "model_module": "@jupyter-widgets/controls",
          "model_name": "DescriptionStyleModel",
          "model_module_version": "1.5.0",
          "state": {
            "_model_module": "@jupyter-widgets/controls",
            "_model_module_version": "1.5.0",
            "_model_name": "DescriptionStyleModel",
            "_view_count": null,
            "_view_module": "@jupyter-widgets/base",
            "_view_module_version": "1.2.0",
            "_view_name": "StyleView",
            "description_width": ""
          }
        },
        "2ef1d8db45524f2c85877b885d7c0ffc": {
          "model_module": "@jupyter-widgets/controls",
          "model_name": "HBoxModel",
          "model_module_version": "1.5.0",
          "state": {
            "_dom_classes": [],
            "_model_module": "@jupyter-widgets/controls",
            "_model_module_version": "1.5.0",
            "_model_name": "HBoxModel",
            "_view_count": null,
            "_view_module": "@jupyter-widgets/controls",
            "_view_module_version": "1.5.0",
            "_view_name": "HBoxView",
            "box_style": "",
            "children": [
              "IPY_MODEL_d19a051e901c47bc9a369472e33b844a",
              "IPY_MODEL_1b3ab2a1339d46cdbe4c5c8f2836a44d",
              "IPY_MODEL_b41d6a026cd04d4c896d56d7af0862fa"
            ],
            "layout": "IPY_MODEL_891e15f305a74e35a7f02f6026507be6"
          }
        },
        "d19a051e901c47bc9a369472e33b844a": {
          "model_module": "@jupyter-widgets/controls",
          "model_name": "HTMLModel",
          "model_module_version": "1.5.0",
          "state": {
            "_dom_classes": [],
            "_model_module": "@jupyter-widgets/controls",
            "_model_module_version": "1.5.0",
            "_model_name": "HTMLModel",
            "_view_count": null,
            "_view_module": "@jupyter-widgets/controls",
            "_view_module_version": "1.5.0",
            "_view_name": "HTMLView",
            "description": "",
            "description_tooltip": null,
            "layout": "IPY_MODEL_c3db5468f4044166ba45001fdc4c032d",
            "placeholder": "​",
            "style": "IPY_MODEL_a406edc882b944a4aa15664ea8795b8e",
            "value": "generation_config.json: 100%"
          }
        },
        "1b3ab2a1339d46cdbe4c5c8f2836a44d": {
          "model_module": "@jupyter-widgets/controls",
          "model_name": "FloatProgressModel",
          "model_module_version": "1.5.0",
          "state": {
            "_dom_classes": [],
            "_model_module": "@jupyter-widgets/controls",
            "_model_module_version": "1.5.0",
            "_model_name": "FloatProgressModel",
            "_view_count": null,
            "_view_module": "@jupyter-widgets/controls",
            "_view_module_version": "1.5.0",
            "_view_name": "ProgressView",
            "bar_style": "success",
            "description": "",
            "description_tooltip": null,
            "layout": "IPY_MODEL_25158b29e5a14807962bd66ae7a6f020",
            "max": 74,
            "min": 0,
            "orientation": "horizontal",
            "style": "IPY_MODEL_e1cca32203654784bb1ba4eee14901fa",
            "value": 74
          }
        },
        "b41d6a026cd04d4c896d56d7af0862fa": {
          "model_module": "@jupyter-widgets/controls",
          "model_name": "HTMLModel",
          "model_module_version": "1.5.0",
          "state": {
            "_dom_classes": [],
            "_model_module": "@jupyter-widgets/controls",
            "_model_module_version": "1.5.0",
            "_model_name": "HTMLModel",
            "_view_count": null,
            "_view_module": "@jupyter-widgets/controls",
            "_view_module_version": "1.5.0",
            "_view_name": "HTMLView",
            "description": "",
            "description_tooltip": null,
            "layout": "IPY_MODEL_057e7e2ef2f24d21bf68f89803a6c1c8",
            "placeholder": "​",
            "style": "IPY_MODEL_89141124e8d84bffafd6146661476ad5",
            "value": " 74.0/74.0 [00:00&lt;00:00, 7.00kB/s]"
          }
        },
        "891e15f305a74e35a7f02f6026507be6": {
          "model_module": "@jupyter-widgets/base",
          "model_name": "LayoutModel",
          "model_module_version": "1.2.0",
          "state": {
            "_model_module": "@jupyter-widgets/base",
            "_model_module_version": "1.2.0",
            "_model_name": "LayoutModel",
            "_view_count": null,
            "_view_module": "@jupyter-widgets/base",
            "_view_module_version": "1.2.0",
            "_view_name": "LayoutView",
            "align_content": null,
            "align_items": null,
            "align_self": null,
            "border": null,
            "bottom": null,
            "display": null,
            "flex": null,
            "flex_flow": null,
            "grid_area": null,
            "grid_auto_columns": null,
            "grid_auto_flow": null,
            "grid_auto_rows": null,
            "grid_column": null,
            "grid_gap": null,
            "grid_row": null,
            "grid_template_areas": null,
            "grid_template_columns": null,
            "grid_template_rows": null,
            "height": null,
            "justify_content": null,
            "justify_items": null,
            "left": null,
            "margin": null,
            "max_height": null,
            "max_width": null,
            "min_height": null,
            "min_width": null,
            "object_fit": null,
            "object_position": null,
            "order": null,
            "overflow": null,
            "overflow_x": null,
            "overflow_y": null,
            "padding": null,
            "right": null,
            "top": null,
            "visibility": null,
            "width": null
          }
        },
        "c3db5468f4044166ba45001fdc4c032d": {
          "model_module": "@jupyter-widgets/base",
          "model_name": "LayoutModel",
          "model_module_version": "1.2.0",
          "state": {
            "_model_module": "@jupyter-widgets/base",
            "_model_module_version": "1.2.0",
            "_model_name": "LayoutModel",
            "_view_count": null,
            "_view_module": "@jupyter-widgets/base",
            "_view_module_version": "1.2.0",
            "_view_name": "LayoutView",
            "align_content": null,
            "align_items": null,
            "align_self": null,
            "border": null,
            "bottom": null,
            "display": null,
            "flex": null,
            "flex_flow": null,
            "grid_area": null,
            "grid_auto_columns": null,
            "grid_auto_flow": null,
            "grid_auto_rows": null,
            "grid_column": null,
            "grid_gap": null,
            "grid_row": null,
            "grid_template_areas": null,
            "grid_template_columns": null,
            "grid_template_rows": null,
            "height": null,
            "justify_content": null,
            "justify_items": null,
            "left": null,
            "margin": null,
            "max_height": null,
            "max_width": null,
            "min_height": null,
            "min_width": null,
            "object_fit": null,
            "object_position": null,
            "order": null,
            "overflow": null,
            "overflow_x": null,
            "overflow_y": null,
            "padding": null,
            "right": null,
            "top": null,
            "visibility": null,
            "width": null
          }
        },
        "a406edc882b944a4aa15664ea8795b8e": {
          "model_module": "@jupyter-widgets/controls",
          "model_name": "DescriptionStyleModel",
          "model_module_version": "1.5.0",
          "state": {
            "_model_module": "@jupyter-widgets/controls",
            "_model_module_version": "1.5.0",
            "_model_name": "DescriptionStyleModel",
            "_view_count": null,
            "_view_module": "@jupyter-widgets/base",
            "_view_module_version": "1.2.0",
            "_view_name": "StyleView",
            "description_width": ""
          }
        },
        "25158b29e5a14807962bd66ae7a6f020": {
          "model_module": "@jupyter-widgets/base",
          "model_name": "LayoutModel",
          "model_module_version": "1.2.0",
          "state": {
            "_model_module": "@jupyter-widgets/base",
            "_model_module_version": "1.2.0",
            "_model_name": "LayoutModel",
            "_view_count": null,
            "_view_module": "@jupyter-widgets/base",
            "_view_module_version": "1.2.0",
            "_view_name": "LayoutView",
            "align_content": null,
            "align_items": null,
            "align_self": null,
            "border": null,
            "bottom": null,
            "display": null,
            "flex": null,
            "flex_flow": null,
            "grid_area": null,
            "grid_auto_columns": null,
            "grid_auto_flow": null,
            "grid_auto_rows": null,
            "grid_column": null,
            "grid_gap": null,
            "grid_row": null,
            "grid_template_areas": null,
            "grid_template_columns": null,
            "grid_template_rows": null,
            "height": null,
            "justify_content": null,
            "justify_items": null,
            "left": null,
            "margin": null,
            "max_height": null,
            "max_width": null,
            "min_height": null,
            "min_width": null,
            "object_fit": null,
            "object_position": null,
            "order": null,
            "overflow": null,
            "overflow_x": null,
            "overflow_y": null,
            "padding": null,
            "right": null,
            "top": null,
            "visibility": null,
            "width": null
          }
        },
        "e1cca32203654784bb1ba4eee14901fa": {
          "model_module": "@jupyter-widgets/controls",
          "model_name": "ProgressStyleModel",
          "model_module_version": "1.5.0",
          "state": {
            "_model_module": "@jupyter-widgets/controls",
            "_model_module_version": "1.5.0",
            "_model_name": "ProgressStyleModel",
            "_view_count": null,
            "_view_module": "@jupyter-widgets/base",
            "_view_module_version": "1.2.0",
            "_view_name": "StyleView",
            "bar_color": null,
            "description_width": ""
          }
        },
        "057e7e2ef2f24d21bf68f89803a6c1c8": {
          "model_module": "@jupyter-widgets/base",
          "model_name": "LayoutModel",
          "model_module_version": "1.2.0",
          "state": {
            "_model_module": "@jupyter-widgets/base",
            "_model_module_version": "1.2.0",
            "_model_name": "LayoutModel",
            "_view_count": null,
            "_view_module": "@jupyter-widgets/base",
            "_view_module_version": "1.2.0",
            "_view_name": "LayoutView",
            "align_content": null,
            "align_items": null,
            "align_self": null,
            "border": null,
            "bottom": null,
            "display": null,
            "flex": null,
            "flex_flow": null,
            "grid_area": null,
            "grid_auto_columns": null,
            "grid_auto_flow": null,
            "grid_auto_rows": null,
            "grid_column": null,
            "grid_gap": null,
            "grid_row": null,
            "grid_template_areas": null,
            "grid_template_columns": null,
            "grid_template_rows": null,
            "height": null,
            "justify_content": null,
            "justify_items": null,
            "left": null,
            "margin": null,
            "max_height": null,
            "max_width": null,
            "min_height": null,
            "min_width": null,
            "object_fit": null,
            "object_position": null,
            "order": null,
            "overflow": null,
            "overflow_x": null,
            "overflow_y": null,
            "padding": null,
            "right": null,
            "top": null,
            "visibility": null,
            "width": null
          }
        },
        "89141124e8d84bffafd6146661476ad5": {
          "model_module": "@jupyter-widgets/controls",
          "model_name": "DescriptionStyleModel",
          "model_module_version": "1.5.0",
          "state": {
            "_model_module": "@jupyter-widgets/controls",
            "_model_module_version": "1.5.0",
            "_model_name": "DescriptionStyleModel",
            "_view_count": null,
            "_view_module": "@jupyter-widgets/base",
            "_view_module_version": "1.2.0",
            "_view_name": "StyleView",
            "description_width": ""
          }
        },
        "6df4782e5c604b6d8bce5ae5cbdff0d0": {
          "model_module": "@jupyter-widgets/controls",
          "model_name": "HBoxModel",
          "model_module_version": "1.5.0",
          "state": {
            "_dom_classes": [],
            "_model_module": "@jupyter-widgets/controls",
            "_model_module_version": "1.5.0",
            "_model_name": "HBoxModel",
            "_view_count": null,
            "_view_module": "@jupyter-widgets/controls",
            "_view_module_version": "1.5.0",
            "_view_name": "HBoxView",
            "box_style": "",
            "children": [
              "IPY_MODEL_74ef55440ffa4598863b5fdc72526470",
              "IPY_MODEL_3f720943362544c494e6ae9c83742531",
              "IPY_MODEL_659b7c1107da4796b501cd9a81e46df5"
            ],
            "layout": "IPY_MODEL_ece5b6e53aec493abcdbb03058d8fde4"
          }
        },
        "74ef55440ffa4598863b5fdc72526470": {
          "model_module": "@jupyter-widgets/controls",
          "model_name": "HTMLModel",
          "model_module_version": "1.5.0",
          "state": {
            "_dom_classes": [],
            "_model_module": "@jupyter-widgets/controls",
            "_model_module_version": "1.5.0",
            "_model_name": "HTMLModel",
            "_view_count": null,
            "_view_module": "@jupyter-widgets/controls",
            "_view_module_version": "1.5.0",
            "_view_name": "HTMLView",
            "description": "",
            "description_tooltip": null,
            "layout": "IPY_MODEL_6326f19be9054346bd05d19884fbaec4",
            "placeholder": "​",
            "style": "IPY_MODEL_87f71b894c6e46d48ebf9f9bc0588774",
            "value": "tokenizer_config.json: 100%"
          }
        },
        "3f720943362544c494e6ae9c83742531": {
          "model_module": "@jupyter-widgets/controls",
          "model_name": "FloatProgressModel",
          "model_module_version": "1.5.0",
          "state": {
            "_dom_classes": [],
            "_model_module": "@jupyter-widgets/controls",
            "_model_module_version": "1.5.0",
            "_model_name": "FloatProgressModel",
            "_view_count": null,
            "_view_module": "@jupyter-widgets/controls",
            "_view_module_version": "1.5.0",
            "_view_name": "ProgressView",
            "bar_style": "success",
            "description": "",
            "description_tooltip": null,
            "layout": "IPY_MODEL_2246a5d679e74d52a5119d58230ecd78",
            "max": 237,
            "min": 0,
            "orientation": "horizontal",
            "style": "IPY_MODEL_771dadcdab6e4062825d0e91175601ac",
            "value": 237
          }
        },
        "659b7c1107da4796b501cd9a81e46df5": {
          "model_module": "@jupyter-widgets/controls",
          "model_name": "HTMLModel",
          "model_module_version": "1.5.0",
          "state": {
            "_dom_classes": [],
            "_model_module": "@jupyter-widgets/controls",
            "_model_module_version": "1.5.0",
            "_model_name": "HTMLModel",
            "_view_count": null,
            "_view_module": "@jupyter-widgets/controls",
            "_view_module_version": "1.5.0",
            "_view_name": "HTMLView",
            "description": "",
            "description_tooltip": null,
            "layout": "IPY_MODEL_d1ec55766e7d45c680d89fd703d49947",
            "placeholder": "​",
            "style": "IPY_MODEL_40236d91c934481fb18719685d940521",
            "value": " 237/237 [00:00&lt;00:00, 20.9kB/s]"
          }
        },
        "ece5b6e53aec493abcdbb03058d8fde4": {
          "model_module": "@jupyter-widgets/base",
          "model_name": "LayoutModel",
          "model_module_version": "1.2.0",
          "state": {
            "_model_module": "@jupyter-widgets/base",
            "_model_module_version": "1.2.0",
            "_model_name": "LayoutModel",
            "_view_count": null,
            "_view_module": "@jupyter-widgets/base",
            "_view_module_version": "1.2.0",
            "_view_name": "LayoutView",
            "align_content": null,
            "align_items": null,
            "align_self": null,
            "border": null,
            "bottom": null,
            "display": null,
            "flex": null,
            "flex_flow": null,
            "grid_area": null,
            "grid_auto_columns": null,
            "grid_auto_flow": null,
            "grid_auto_rows": null,
            "grid_column": null,
            "grid_gap": null,
            "grid_row": null,
            "grid_template_areas": null,
            "grid_template_columns": null,
            "grid_template_rows": null,
            "height": null,
            "justify_content": null,
            "justify_items": null,
            "left": null,
            "margin": null,
            "max_height": null,
            "max_width": null,
            "min_height": null,
            "min_width": null,
            "object_fit": null,
            "object_position": null,
            "order": null,
            "overflow": null,
            "overflow_x": null,
            "overflow_y": null,
            "padding": null,
            "right": null,
            "top": null,
            "visibility": null,
            "width": null
          }
        },
        "6326f19be9054346bd05d19884fbaec4": {
          "model_module": "@jupyter-widgets/base",
          "model_name": "LayoutModel",
          "model_module_version": "1.2.0",
          "state": {
            "_model_module": "@jupyter-widgets/base",
            "_model_module_version": "1.2.0",
            "_model_name": "LayoutModel",
            "_view_count": null,
            "_view_module": "@jupyter-widgets/base",
            "_view_module_version": "1.2.0",
            "_view_name": "LayoutView",
            "align_content": null,
            "align_items": null,
            "align_self": null,
            "border": null,
            "bottom": null,
            "display": null,
            "flex": null,
            "flex_flow": null,
            "grid_area": null,
            "grid_auto_columns": null,
            "grid_auto_flow": null,
            "grid_auto_rows": null,
            "grid_column": null,
            "grid_gap": null,
            "grid_row": null,
            "grid_template_areas": null,
            "grid_template_columns": null,
            "grid_template_rows": null,
            "height": null,
            "justify_content": null,
            "justify_items": null,
            "left": null,
            "margin": null,
            "max_height": null,
            "max_width": null,
            "min_height": null,
            "min_width": null,
            "object_fit": null,
            "object_position": null,
            "order": null,
            "overflow": null,
            "overflow_x": null,
            "overflow_y": null,
            "padding": null,
            "right": null,
            "top": null,
            "visibility": null,
            "width": null
          }
        },
        "87f71b894c6e46d48ebf9f9bc0588774": {
          "model_module": "@jupyter-widgets/controls",
          "model_name": "DescriptionStyleModel",
          "model_module_version": "1.5.0",
          "state": {
            "_model_module": "@jupyter-widgets/controls",
            "_model_module_version": "1.5.0",
            "_model_name": "DescriptionStyleModel",
            "_view_count": null,
            "_view_module": "@jupyter-widgets/base",
            "_view_module_version": "1.2.0",
            "_view_name": "StyleView",
            "description_width": ""
          }
        },
        "2246a5d679e74d52a5119d58230ecd78": {
          "model_module": "@jupyter-widgets/base",
          "model_name": "LayoutModel",
          "model_module_version": "1.2.0",
          "state": {
            "_model_module": "@jupyter-widgets/base",
            "_model_module_version": "1.2.0",
            "_model_name": "LayoutModel",
            "_view_count": null,
            "_view_module": "@jupyter-widgets/base",
            "_view_module_version": "1.2.0",
            "_view_name": "LayoutView",
            "align_content": null,
            "align_items": null,
            "align_self": null,
            "border": null,
            "bottom": null,
            "display": null,
            "flex": null,
            "flex_flow": null,
            "grid_area": null,
            "grid_auto_columns": null,
            "grid_auto_flow": null,
            "grid_auto_rows": null,
            "grid_column": null,
            "grid_gap": null,
            "grid_row": null,
            "grid_template_areas": null,
            "grid_template_columns": null,
            "grid_template_rows": null,
            "height": null,
            "justify_content": null,
            "justify_items": null,
            "left": null,
            "margin": null,
            "max_height": null,
            "max_width": null,
            "min_height": null,
            "min_width": null,
            "object_fit": null,
            "object_position": null,
            "order": null,
            "overflow": null,
            "overflow_x": null,
            "overflow_y": null,
            "padding": null,
            "right": null,
            "top": null,
            "visibility": null,
            "width": null
          }
        },
        "771dadcdab6e4062825d0e91175601ac": {
          "model_module": "@jupyter-widgets/controls",
          "model_name": "ProgressStyleModel",
          "model_module_version": "1.5.0",
          "state": {
            "_model_module": "@jupyter-widgets/controls",
            "_model_module_version": "1.5.0",
            "_model_name": "ProgressStyleModel",
            "_view_count": null,
            "_view_module": "@jupyter-widgets/base",
            "_view_module_version": "1.2.0",
            "_view_name": "StyleView",
            "bar_color": null,
            "description_width": ""
          }
        },
        "d1ec55766e7d45c680d89fd703d49947": {
          "model_module": "@jupyter-widgets/base",
          "model_name": "LayoutModel",
          "model_module_version": "1.2.0",
          "state": {
            "_model_module": "@jupyter-widgets/base",
            "_model_module_version": "1.2.0",
            "_model_name": "LayoutModel",
            "_view_count": null,
            "_view_module": "@jupyter-widgets/base",
            "_view_module_version": "1.2.0",
            "_view_name": "LayoutView",
            "align_content": null,
            "align_items": null,
            "align_self": null,
            "border": null,
            "bottom": null,
            "display": null,
            "flex": null,
            "flex_flow": null,
            "grid_area": null,
            "grid_auto_columns": null,
            "grid_auto_flow": null,
            "grid_auto_rows": null,
            "grid_column": null,
            "grid_gap": null,
            "grid_row": null,
            "grid_template_areas": null,
            "grid_template_columns": null,
            "grid_template_rows": null,
            "height": null,
            "justify_content": null,
            "justify_items": null,
            "left": null,
            "margin": null,
            "max_height": null,
            "max_width": null,
            "min_height": null,
            "min_width": null,
            "object_fit": null,
            "object_position": null,
            "order": null,
            "overflow": null,
            "overflow_x": null,
            "overflow_y": null,
            "padding": null,
            "right": null,
            "top": null,
            "visibility": null,
            "width": null
          }
        },
        "40236d91c934481fb18719685d940521": {
          "model_module": "@jupyter-widgets/controls",
          "model_name": "DescriptionStyleModel",
          "model_module_version": "1.5.0",
          "state": {
            "_model_module": "@jupyter-widgets/controls",
            "_model_module_version": "1.5.0",
            "_model_name": "DescriptionStyleModel",
            "_view_count": null,
            "_view_module": "@jupyter-widgets/base",
            "_view_module_version": "1.2.0",
            "_view_name": "StyleView",
            "description_width": ""
          }
        },
        "752c5c9a00ad4dc783e38256d602ba74": {
          "model_module": "@jupyter-widgets/controls",
          "model_name": "HBoxModel",
          "model_module_version": "1.5.0",
          "state": {
            "_dom_classes": [],
            "_model_module": "@jupyter-widgets/controls",
            "_model_module_version": "1.5.0",
            "_model_name": "HBoxModel",
            "_view_count": null,
            "_view_module": "@jupyter-widgets/controls",
            "_view_module_version": "1.5.0",
            "_view_name": "HBoxView",
            "box_style": "",
            "children": [
              "IPY_MODEL_9a41526460144a8492b7ea03b560b355",
              "IPY_MODEL_c6cca9d8d9e54c339d41741ae3d8e3d4",
              "IPY_MODEL_3ce31cd9fd214a1c88343067c8a9b29a"
            ],
            "layout": "IPY_MODEL_dca33a02beb247aca6c54a16785cc424"
          }
        },
        "9a41526460144a8492b7ea03b560b355": {
          "model_module": "@jupyter-widgets/controls",
          "model_name": "HTMLModel",
          "model_module_version": "1.5.0",
          "state": {
            "_dom_classes": [],
            "_model_module": "@jupyter-widgets/controls",
            "_model_module_version": "1.5.0",
            "_model_name": "HTMLModel",
            "_view_count": null,
            "_view_module": "@jupyter-widgets/controls",
            "_view_module_version": "1.5.0",
            "_view_name": "HTMLView",
            "description": "",
            "description_tooltip": null,
            "layout": "IPY_MODEL_a73359026e474fc4bbdf92e96b828929",
            "placeholder": "​",
            "style": "IPY_MODEL_f8d228c42a0641cba5303aee752ba8c3",
            "value": "vocab.json: 100%"
          }
        },
        "c6cca9d8d9e54c339d41741ae3d8e3d4": {
          "model_module": "@jupyter-widgets/controls",
          "model_name": "FloatProgressModel",
          "model_module_version": "1.5.0",
          "state": {
            "_dom_classes": [],
            "_model_module": "@jupyter-widgets/controls",
            "_model_module_version": "1.5.0",
            "_model_name": "FloatProgressModel",
            "_view_count": null,
            "_view_module": "@jupyter-widgets/controls",
            "_view_module_version": "1.5.0",
            "_view_name": "ProgressView",
            "bar_style": "success",
            "description": "",
            "description_tooltip": null,
            "layout": "IPY_MODEL_d7f2d113f17b4a37a5ac1aced316154f",
            "max": 798156,
            "min": 0,
            "orientation": "horizontal",
            "style": "IPY_MODEL_ec5247ded62e4f63aa74135f6df95463",
            "value": 798156
          }
        },
        "3ce31cd9fd214a1c88343067c8a9b29a": {
          "model_module": "@jupyter-widgets/controls",
          "model_name": "HTMLModel",
          "model_module_version": "1.5.0",
          "state": {
            "_dom_classes": [],
            "_model_module": "@jupyter-widgets/controls",
            "_model_module_version": "1.5.0",
            "_model_name": "HTMLModel",
            "_view_count": null,
            "_view_module": "@jupyter-widgets/controls",
            "_view_module_version": "1.5.0",
            "_view_name": "HTMLView",
            "description": "",
            "description_tooltip": null,
            "layout": "IPY_MODEL_066b590a8c884b43948f7d0e0984c48f",
            "placeholder": "​",
            "style": "IPY_MODEL_49d4d8953e5f4ff290e7179c19e104bf",
            "value": " 798k/798k [00:00&lt;00:00, 3.24MB/s]"
          }
        },
        "dca33a02beb247aca6c54a16785cc424": {
          "model_module": "@jupyter-widgets/base",
          "model_name": "LayoutModel",
          "model_module_version": "1.2.0",
          "state": {
            "_model_module": "@jupyter-widgets/base",
            "_model_module_version": "1.2.0",
            "_model_name": "LayoutModel",
            "_view_count": null,
            "_view_module": "@jupyter-widgets/base",
            "_view_module_version": "1.2.0",
            "_view_name": "LayoutView",
            "align_content": null,
            "align_items": null,
            "align_self": null,
            "border": null,
            "bottom": null,
            "display": null,
            "flex": null,
            "flex_flow": null,
            "grid_area": null,
            "grid_auto_columns": null,
            "grid_auto_flow": null,
            "grid_auto_rows": null,
            "grid_column": null,
            "grid_gap": null,
            "grid_row": null,
            "grid_template_areas": null,
            "grid_template_columns": null,
            "grid_template_rows": null,
            "height": null,
            "justify_content": null,
            "justify_items": null,
            "left": null,
            "margin": null,
            "max_height": null,
            "max_width": null,
            "min_height": null,
            "min_width": null,
            "object_fit": null,
            "object_position": null,
            "order": null,
            "overflow": null,
            "overflow_x": null,
            "overflow_y": null,
            "padding": null,
            "right": null,
            "top": null,
            "visibility": null,
            "width": null
          }
        },
        "a73359026e474fc4bbdf92e96b828929": {
          "model_module": "@jupyter-widgets/base",
          "model_name": "LayoutModel",
          "model_module_version": "1.2.0",
          "state": {
            "_model_module": "@jupyter-widgets/base",
            "_model_module_version": "1.2.0",
            "_model_name": "LayoutModel",
            "_view_count": null,
            "_view_module": "@jupyter-widgets/base",
            "_view_module_version": "1.2.0",
            "_view_name": "LayoutView",
            "align_content": null,
            "align_items": null,
            "align_self": null,
            "border": null,
            "bottom": null,
            "display": null,
            "flex": null,
            "flex_flow": null,
            "grid_area": null,
            "grid_auto_columns": null,
            "grid_auto_flow": null,
            "grid_auto_rows": null,
            "grid_column": null,
            "grid_gap": null,
            "grid_row": null,
            "grid_template_areas": null,
            "grid_template_columns": null,
            "grid_template_rows": null,
            "height": null,
            "justify_content": null,
            "justify_items": null,
            "left": null,
            "margin": null,
            "max_height": null,
            "max_width": null,
            "min_height": null,
            "min_width": null,
            "object_fit": null,
            "object_position": null,
            "order": null,
            "overflow": null,
            "overflow_x": null,
            "overflow_y": null,
            "padding": null,
            "right": null,
            "top": null,
            "visibility": null,
            "width": null
          }
        },
        "f8d228c42a0641cba5303aee752ba8c3": {
          "model_module": "@jupyter-widgets/controls",
          "model_name": "DescriptionStyleModel",
          "model_module_version": "1.5.0",
          "state": {
            "_model_module": "@jupyter-widgets/controls",
            "_model_module_version": "1.5.0",
            "_model_name": "DescriptionStyleModel",
            "_view_count": null,
            "_view_module": "@jupyter-widgets/base",
            "_view_module_version": "1.2.0",
            "_view_name": "StyleView",
            "description_width": ""
          }
        },
        "d7f2d113f17b4a37a5ac1aced316154f": {
          "model_module": "@jupyter-widgets/base",
          "model_name": "LayoutModel",
          "model_module_version": "1.2.0",
          "state": {
            "_model_module": "@jupyter-widgets/base",
            "_model_module_version": "1.2.0",
            "_model_name": "LayoutModel",
            "_view_count": null,
            "_view_module": "@jupyter-widgets/base",
            "_view_module_version": "1.2.0",
            "_view_name": "LayoutView",
            "align_content": null,
            "align_items": null,
            "align_self": null,
            "border": null,
            "bottom": null,
            "display": null,
            "flex": null,
            "flex_flow": null,
            "grid_area": null,
            "grid_auto_columns": null,
            "grid_auto_flow": null,
            "grid_auto_rows": null,
            "grid_column": null,
            "grid_gap": null,
            "grid_row": null,
            "grid_template_areas": null,
            "grid_template_columns": null,
            "grid_template_rows": null,
            "height": null,
            "justify_content": null,
            "justify_items": null,
            "left": null,
            "margin": null,
            "max_height": null,
            "max_width": null,
            "min_height": null,
            "min_width": null,
            "object_fit": null,
            "object_position": null,
            "order": null,
            "overflow": null,
            "overflow_x": null,
            "overflow_y": null,
            "padding": null,
            "right": null,
            "top": null,
            "visibility": null,
            "width": null
          }
        },
        "ec5247ded62e4f63aa74135f6df95463": {
          "model_module": "@jupyter-widgets/controls",
          "model_name": "ProgressStyleModel",
          "model_module_version": "1.5.0",
          "state": {
            "_model_module": "@jupyter-widgets/controls",
            "_model_module_version": "1.5.0",
            "_model_name": "ProgressStyleModel",
            "_view_count": null,
            "_view_module": "@jupyter-widgets/base",
            "_view_module_version": "1.2.0",
            "_view_name": "StyleView",
            "bar_color": null,
            "description_width": ""
          }
        },
        "066b590a8c884b43948f7d0e0984c48f": {
          "model_module": "@jupyter-widgets/base",
          "model_name": "LayoutModel",
          "model_module_version": "1.2.0",
          "state": {
            "_model_module": "@jupyter-widgets/base",
            "_model_module_version": "1.2.0",
            "_model_name": "LayoutModel",
            "_view_count": null,
            "_view_module": "@jupyter-widgets/base",
            "_view_module_version": "1.2.0",
            "_view_name": "LayoutView",
            "align_content": null,
            "align_items": null,
            "align_self": null,
            "border": null,
            "bottom": null,
            "display": null,
            "flex": null,
            "flex_flow": null,
            "grid_area": null,
            "grid_auto_columns": null,
            "grid_auto_flow": null,
            "grid_auto_rows": null,
            "grid_column": null,
            "grid_gap": null,
            "grid_row": null,
            "grid_template_areas": null,
            "grid_template_columns": null,
            "grid_template_rows": null,
            "height": null,
            "justify_content": null,
            "justify_items": null,
            "left": null,
            "margin": null,
            "max_height": null,
            "max_width": null,
            "min_height": null,
            "min_width": null,
            "object_fit": null,
            "object_position": null,
            "order": null,
            "overflow": null,
            "overflow_x": null,
            "overflow_y": null,
            "padding": null,
            "right": null,
            "top": null,
            "visibility": null,
            "width": null
          }
        },
        "49d4d8953e5f4ff290e7179c19e104bf": {
          "model_module": "@jupyter-widgets/controls",
          "model_name": "DescriptionStyleModel",
          "model_module_version": "1.5.0",
          "state": {
            "_model_module": "@jupyter-widgets/controls",
            "_model_module_version": "1.5.0",
            "_model_name": "DescriptionStyleModel",
            "_view_count": null,
            "_view_module": "@jupyter-widgets/base",
            "_view_module_version": "1.2.0",
            "_view_name": "StyleView",
            "description_width": ""
          }
        },
        "c12074f266bf4a81bec5dfdac732fa7a": {
          "model_module": "@jupyter-widgets/controls",
          "model_name": "HBoxModel",
          "model_module_version": "1.5.0",
          "state": {
            "_dom_classes": [],
            "_model_module": "@jupyter-widgets/controls",
            "_model_module_version": "1.5.0",
            "_model_name": "HBoxModel",
            "_view_count": null,
            "_view_module": "@jupyter-widgets/controls",
            "_view_module_version": "1.5.0",
            "_view_name": "HBoxView",
            "box_style": "",
            "children": [
              "IPY_MODEL_44103d2a812c44408ce94a6f10b32afc",
              "IPY_MODEL_e8a01081e47a4d9aaf2fc8d1106e2778",
              "IPY_MODEL_97de5f1b98df4e598cecd7287f04280f"
            ],
            "layout": "IPY_MODEL_62b615cd66a34759a77453bf9accb3c6"
          }
        },
        "44103d2a812c44408ce94a6f10b32afc": {
          "model_module": "@jupyter-widgets/controls",
          "model_name": "HTMLModel",
          "model_module_version": "1.5.0",
          "state": {
            "_dom_classes": [],
            "_model_module": "@jupyter-widgets/controls",
            "_model_module_version": "1.5.0",
            "_model_name": "HTMLModel",
            "_view_count": null,
            "_view_module": "@jupyter-widgets/controls",
            "_view_module_version": "1.5.0",
            "_view_name": "HTMLView",
            "description": "",
            "description_tooltip": null,
            "layout": "IPY_MODEL_62039abeba9542308ad142ae5fe5f4f2",
            "placeholder": "​",
            "style": "IPY_MODEL_9c28c6d11d8e4187afc797b305a14e19",
            "value": "merges.txt: 100%"
          }
        },
        "e8a01081e47a4d9aaf2fc8d1106e2778": {
          "model_module": "@jupyter-widgets/controls",
          "model_name": "FloatProgressModel",
          "model_module_version": "1.5.0",
          "state": {
            "_dom_classes": [],
            "_model_module": "@jupyter-widgets/controls",
            "_model_module_version": "1.5.0",
            "_model_name": "FloatProgressModel",
            "_view_count": null,
            "_view_module": "@jupyter-widgets/controls",
            "_view_module_version": "1.5.0",
            "_view_name": "ProgressView",
            "bar_style": "success",
            "description": "",
            "description_tooltip": null,
            "layout": "IPY_MODEL_07f9a32eeac74620ae947a8709627279",
            "max": 456318,
            "min": 0,
            "orientation": "horizontal",
            "style": "IPY_MODEL_583df5effb644511a91414a84b1867e2",
            "value": 456318
          }
        },
        "97de5f1b98df4e598cecd7287f04280f": {
          "model_module": "@jupyter-widgets/controls",
          "model_name": "HTMLModel",
          "model_module_version": "1.5.0",
          "state": {
            "_dom_classes": [],
            "_model_module": "@jupyter-widgets/controls",
            "_model_module_version": "1.5.0",
            "_model_name": "HTMLModel",
            "_view_count": null,
            "_view_module": "@jupyter-widgets/controls",
            "_view_module_version": "1.5.0",
            "_view_name": "HTMLView",
            "description": "",
            "description_tooltip": null,
            "layout": "IPY_MODEL_918e841b4e35409aa3a61fe70d06c02a",
            "placeholder": "​",
            "style": "IPY_MODEL_888a61db8be0464fb94dd11ce9099160",
            "value": " 456k/456k [00:00&lt;00:00, 5.46MB/s]"
          }
        },
        "62b615cd66a34759a77453bf9accb3c6": {
          "model_module": "@jupyter-widgets/base",
          "model_name": "LayoutModel",
          "model_module_version": "1.2.0",
          "state": {
            "_model_module": "@jupyter-widgets/base",
            "_model_module_version": "1.2.0",
            "_model_name": "LayoutModel",
            "_view_count": null,
            "_view_module": "@jupyter-widgets/base",
            "_view_module_version": "1.2.0",
            "_view_name": "LayoutView",
            "align_content": null,
            "align_items": null,
            "align_self": null,
            "border": null,
            "bottom": null,
            "display": null,
            "flex": null,
            "flex_flow": null,
            "grid_area": null,
            "grid_auto_columns": null,
            "grid_auto_flow": null,
            "grid_auto_rows": null,
            "grid_column": null,
            "grid_gap": null,
            "grid_row": null,
            "grid_template_areas": null,
            "grid_template_columns": null,
            "grid_template_rows": null,
            "height": null,
            "justify_content": null,
            "justify_items": null,
            "left": null,
            "margin": null,
            "max_height": null,
            "max_width": null,
            "min_height": null,
            "min_width": null,
            "object_fit": null,
            "object_position": null,
            "order": null,
            "overflow": null,
            "overflow_x": null,
            "overflow_y": null,
            "padding": null,
            "right": null,
            "top": null,
            "visibility": null,
            "width": null
          }
        },
        "62039abeba9542308ad142ae5fe5f4f2": {
          "model_module": "@jupyter-widgets/base",
          "model_name": "LayoutModel",
          "model_module_version": "1.2.0",
          "state": {
            "_model_module": "@jupyter-widgets/base",
            "_model_module_version": "1.2.0",
            "_model_name": "LayoutModel",
            "_view_count": null,
            "_view_module": "@jupyter-widgets/base",
            "_view_module_version": "1.2.0",
            "_view_name": "LayoutView",
            "align_content": null,
            "align_items": null,
            "align_self": null,
            "border": null,
            "bottom": null,
            "display": null,
            "flex": null,
            "flex_flow": null,
            "grid_area": null,
            "grid_auto_columns": null,
            "grid_auto_flow": null,
            "grid_auto_rows": null,
            "grid_column": null,
            "grid_gap": null,
            "grid_row": null,
            "grid_template_areas": null,
            "grid_template_columns": null,
            "grid_template_rows": null,
            "height": null,
            "justify_content": null,
            "justify_items": null,
            "left": null,
            "margin": null,
            "max_height": null,
            "max_width": null,
            "min_height": null,
            "min_width": null,
            "object_fit": null,
            "object_position": null,
            "order": null,
            "overflow": null,
            "overflow_x": null,
            "overflow_y": null,
            "padding": null,
            "right": null,
            "top": null,
            "visibility": null,
            "width": null
          }
        },
        "9c28c6d11d8e4187afc797b305a14e19": {
          "model_module": "@jupyter-widgets/controls",
          "model_name": "DescriptionStyleModel",
          "model_module_version": "1.5.0",
          "state": {
            "_model_module": "@jupyter-widgets/controls",
            "_model_module_version": "1.5.0",
            "_model_name": "DescriptionStyleModel",
            "_view_count": null,
            "_view_module": "@jupyter-widgets/base",
            "_view_module_version": "1.2.0",
            "_view_name": "StyleView",
            "description_width": ""
          }
        },
        "07f9a32eeac74620ae947a8709627279": {
          "model_module": "@jupyter-widgets/base",
          "model_name": "LayoutModel",
          "model_module_version": "1.2.0",
          "state": {
            "_model_module": "@jupyter-widgets/base",
            "_model_module_version": "1.2.0",
            "_model_name": "LayoutModel",
            "_view_count": null,
            "_view_module": "@jupyter-widgets/base",
            "_view_module_version": "1.2.0",
            "_view_name": "LayoutView",
            "align_content": null,
            "align_items": null,
            "align_self": null,
            "border": null,
            "bottom": null,
            "display": null,
            "flex": null,
            "flex_flow": null,
            "grid_area": null,
            "grid_auto_columns": null,
            "grid_auto_flow": null,
            "grid_auto_rows": null,
            "grid_column": null,
            "grid_gap": null,
            "grid_row": null,
            "grid_template_areas": null,
            "grid_template_columns": null,
            "grid_template_rows": null,
            "height": null,
            "justify_content": null,
            "justify_items": null,
            "left": null,
            "margin": null,
            "max_height": null,
            "max_width": null,
            "min_height": null,
            "min_width": null,
            "object_fit": null,
            "object_position": null,
            "order": null,
            "overflow": null,
            "overflow_x": null,
            "overflow_y": null,
            "padding": null,
            "right": null,
            "top": null,
            "visibility": null,
            "width": null
          }
        },
        "583df5effb644511a91414a84b1867e2": {
          "model_module": "@jupyter-widgets/controls",
          "model_name": "ProgressStyleModel",
          "model_module_version": "1.5.0",
          "state": {
            "_model_module": "@jupyter-widgets/controls",
            "_model_module_version": "1.5.0",
            "_model_name": "ProgressStyleModel",
            "_view_count": null,
            "_view_module": "@jupyter-widgets/base",
            "_view_module_version": "1.2.0",
            "_view_name": "StyleView",
            "bar_color": null,
            "description_width": ""
          }
        },
        "918e841b4e35409aa3a61fe70d06c02a": {
          "model_module": "@jupyter-widgets/base",
          "model_name": "LayoutModel",
          "model_module_version": "1.2.0",
          "state": {
            "_model_module": "@jupyter-widgets/base",
            "_model_module_version": "1.2.0",
            "_model_name": "LayoutModel",
            "_view_count": null,
            "_view_module": "@jupyter-widgets/base",
            "_view_module_version": "1.2.0",
            "_view_name": "LayoutView",
            "align_content": null,
            "align_items": null,
            "align_self": null,
            "border": null,
            "bottom": null,
            "display": null,
            "flex": null,
            "flex_flow": null,
            "grid_area": null,
            "grid_auto_columns": null,
            "grid_auto_flow": null,
            "grid_auto_rows": null,
            "grid_column": null,
            "grid_gap": null,
            "grid_row": null,
            "grid_template_areas": null,
            "grid_template_columns": null,
            "grid_template_rows": null,
            "height": null,
            "justify_content": null,
            "justify_items": null,
            "left": null,
            "margin": null,
            "max_height": null,
            "max_width": null,
            "min_height": null,
            "min_width": null,
            "object_fit": null,
            "object_position": null,
            "order": null,
            "overflow": null,
            "overflow_x": null,
            "overflow_y": null,
            "padding": null,
            "right": null,
            "top": null,
            "visibility": null,
            "width": null
          }
        },
        "888a61db8be0464fb94dd11ce9099160": {
          "model_module": "@jupyter-widgets/controls",
          "model_name": "DescriptionStyleModel",
          "model_module_version": "1.5.0",
          "state": {
            "_model_module": "@jupyter-widgets/controls",
            "_model_module_version": "1.5.0",
            "_model_name": "DescriptionStyleModel",
            "_view_count": null,
            "_view_module": "@jupyter-widgets/base",
            "_view_module_version": "1.2.0",
            "_view_name": "StyleView",
            "description_width": ""
          }
        },
        "024081b34f914fa79d361e18edbb4029": {
          "model_module": "@jupyter-widgets/controls",
          "model_name": "HBoxModel",
          "model_module_version": "1.5.0",
          "state": {
            "_dom_classes": [],
            "_model_module": "@jupyter-widgets/controls",
            "_model_module_version": "1.5.0",
            "_model_name": "HBoxModel",
            "_view_count": null,
            "_view_module": "@jupyter-widgets/controls",
            "_view_module_version": "1.5.0",
            "_view_name": "HBoxView",
            "box_style": "",
            "children": [
              "IPY_MODEL_00455867bc204be48db2189ede36e827",
              "IPY_MODEL_d50f0fbc38fc4c099bbde84b94e37a13",
              "IPY_MODEL_6473ab5cff3a45adb2de4ef8ed267949"
            ],
            "layout": "IPY_MODEL_db0cc52531e048b881de0cb9f7d41f61"
          }
        },
        "00455867bc204be48db2189ede36e827": {
          "model_module": "@jupyter-widgets/controls",
          "model_name": "HTMLModel",
          "model_module_version": "1.5.0",
          "state": {
            "_dom_classes": [],
            "_model_module": "@jupyter-widgets/controls",
            "_model_module_version": "1.5.0",
            "_model_name": "HTMLModel",
            "_view_count": null,
            "_view_module": "@jupyter-widgets/controls",
            "_view_module_version": "1.5.0",
            "_view_name": "HTMLView",
            "description": "",
            "description_tooltip": null,
            "layout": "IPY_MODEL_8e92c57efa8d4eb99c950fda9eb7372d",
            "placeholder": "​",
            "style": "IPY_MODEL_a34400f1c7904748a20a187fee2d8fb5",
            "value": "tokenizer.json: 100%"
          }
        },
        "d50f0fbc38fc4c099bbde84b94e37a13": {
          "model_module": "@jupyter-widgets/controls",
          "model_name": "FloatProgressModel",
          "model_module_version": "1.5.0",
          "state": {
            "_dom_classes": [],
            "_model_module": "@jupyter-widgets/controls",
            "_model_module_version": "1.5.0",
            "_model_name": "FloatProgressModel",
            "_view_count": null,
            "_view_module": "@jupyter-widgets/controls",
            "_view_module_version": "1.5.0",
            "_view_name": "ProgressView",
            "bar_style": "success",
            "description": "",
            "description_tooltip": null,
            "layout": "IPY_MODEL_5f07437f05b4453fb8ec7fbed47815ad",
            "max": 2114924,
            "min": 0,
            "orientation": "horizontal",
            "style": "IPY_MODEL_b2a4a3e1948b4b44a8612f83018779f5",
            "value": 2114924
          }
        },
        "6473ab5cff3a45adb2de4ef8ed267949": {
          "model_module": "@jupyter-widgets/controls",
          "model_name": "HTMLModel",
          "model_module_version": "1.5.0",
          "state": {
            "_dom_classes": [],
            "_model_module": "@jupyter-widgets/controls",
            "_model_module_version": "1.5.0",
            "_model_name": "HTMLModel",
            "_view_count": null,
            "_view_module": "@jupyter-widgets/controls",
            "_view_module_version": "1.5.0",
            "_view_name": "HTMLView",
            "description": "",
            "description_tooltip": null,
            "layout": "IPY_MODEL_6c925ae4c0454ccaa3a5621e0ef8e0b6",
            "placeholder": "​",
            "style": "IPY_MODEL_2b72b0c15f904011ac2ba6ceeb0809e9",
            "value": " 2.11M/2.11M [00:00&lt;00:00, 5.19MB/s]"
          }
        },
        "db0cc52531e048b881de0cb9f7d41f61": {
          "model_module": "@jupyter-widgets/base",
          "model_name": "LayoutModel",
          "model_module_version": "1.2.0",
          "state": {
            "_model_module": "@jupyter-widgets/base",
            "_model_module_version": "1.2.0",
            "_model_name": "LayoutModel",
            "_view_count": null,
            "_view_module": "@jupyter-widgets/base",
            "_view_module_version": "1.2.0",
            "_view_name": "LayoutView",
            "align_content": null,
            "align_items": null,
            "align_self": null,
            "border": null,
            "bottom": null,
            "display": null,
            "flex": null,
            "flex_flow": null,
            "grid_area": null,
            "grid_auto_columns": null,
            "grid_auto_flow": null,
            "grid_auto_rows": null,
            "grid_column": null,
            "grid_gap": null,
            "grid_row": null,
            "grid_template_areas": null,
            "grid_template_columns": null,
            "grid_template_rows": null,
            "height": null,
            "justify_content": null,
            "justify_items": null,
            "left": null,
            "margin": null,
            "max_height": null,
            "max_width": null,
            "min_height": null,
            "min_width": null,
            "object_fit": null,
            "object_position": null,
            "order": null,
            "overflow": null,
            "overflow_x": null,
            "overflow_y": null,
            "padding": null,
            "right": null,
            "top": null,
            "visibility": null,
            "width": null
          }
        },
        "8e92c57efa8d4eb99c950fda9eb7372d": {
          "model_module": "@jupyter-widgets/base",
          "model_name": "LayoutModel",
          "model_module_version": "1.2.0",
          "state": {
            "_model_module": "@jupyter-widgets/base",
            "_model_module_version": "1.2.0",
            "_model_name": "LayoutModel",
            "_view_count": null,
            "_view_module": "@jupyter-widgets/base",
            "_view_module_version": "1.2.0",
            "_view_name": "LayoutView",
            "align_content": null,
            "align_items": null,
            "align_self": null,
            "border": null,
            "bottom": null,
            "display": null,
            "flex": null,
            "flex_flow": null,
            "grid_area": null,
            "grid_auto_columns": null,
            "grid_auto_flow": null,
            "grid_auto_rows": null,
            "grid_column": null,
            "grid_gap": null,
            "grid_row": null,
            "grid_template_areas": null,
            "grid_template_columns": null,
            "grid_template_rows": null,
            "height": null,
            "justify_content": null,
            "justify_items": null,
            "left": null,
            "margin": null,
            "max_height": null,
            "max_width": null,
            "min_height": null,
            "min_width": null,
            "object_fit": null,
            "object_position": null,
            "order": null,
            "overflow": null,
            "overflow_x": null,
            "overflow_y": null,
            "padding": null,
            "right": null,
            "top": null,
            "visibility": null,
            "width": null
          }
        },
        "a34400f1c7904748a20a187fee2d8fb5": {
          "model_module": "@jupyter-widgets/controls",
          "model_name": "DescriptionStyleModel",
          "model_module_version": "1.5.0",
          "state": {
            "_model_module": "@jupyter-widgets/controls",
            "_model_module_version": "1.5.0",
            "_model_name": "DescriptionStyleModel",
            "_view_count": null,
            "_view_module": "@jupyter-widgets/base",
            "_view_module_version": "1.2.0",
            "_view_name": "StyleView",
            "description_width": ""
          }
        },
        "5f07437f05b4453fb8ec7fbed47815ad": {
          "model_module": "@jupyter-widgets/base",
          "model_name": "LayoutModel",
          "model_module_version": "1.2.0",
          "state": {
            "_model_module": "@jupyter-widgets/base",
            "_model_module_version": "1.2.0",
            "_model_name": "LayoutModel",
            "_view_count": null,
            "_view_module": "@jupyter-widgets/base",
            "_view_module_version": "1.2.0",
            "_view_name": "LayoutView",
            "align_content": null,
            "align_items": null,
            "align_self": null,
            "border": null,
            "bottom": null,
            "display": null,
            "flex": null,
            "flex_flow": null,
            "grid_area": null,
            "grid_auto_columns": null,
            "grid_auto_flow": null,
            "grid_auto_rows": null,
            "grid_column": null,
            "grid_gap": null,
            "grid_row": null,
            "grid_template_areas": null,
            "grid_template_columns": null,
            "grid_template_rows": null,
            "height": null,
            "justify_content": null,
            "justify_items": null,
            "left": null,
            "margin": null,
            "max_height": null,
            "max_width": null,
            "min_height": null,
            "min_width": null,
            "object_fit": null,
            "object_position": null,
            "order": null,
            "overflow": null,
            "overflow_x": null,
            "overflow_y": null,
            "padding": null,
            "right": null,
            "top": null,
            "visibility": null,
            "width": null
          }
        },
        "b2a4a3e1948b4b44a8612f83018779f5": {
          "model_module": "@jupyter-widgets/controls",
          "model_name": "ProgressStyleModel",
          "model_module_version": "1.5.0",
          "state": {
            "_model_module": "@jupyter-widgets/controls",
            "_model_module_version": "1.5.0",
            "_model_name": "ProgressStyleModel",
            "_view_count": null,
            "_view_module": "@jupyter-widgets/base",
            "_view_module_version": "1.2.0",
            "_view_name": "StyleView",
            "bar_color": null,
            "description_width": ""
          }
        },
        "6c925ae4c0454ccaa3a5621e0ef8e0b6": {
          "model_module": "@jupyter-widgets/base",
          "model_name": "LayoutModel",
          "model_module_version": "1.2.0",
          "state": {
            "_model_module": "@jupyter-widgets/base",
            "_model_module_version": "1.2.0",
            "_model_name": "LayoutModel",
            "_view_count": null,
            "_view_module": "@jupyter-widgets/base",
            "_view_module_version": "1.2.0",
            "_view_name": "LayoutView",
            "align_content": null,
            "align_items": null,
            "align_self": null,
            "border": null,
            "bottom": null,
            "display": null,
            "flex": null,
            "flex_flow": null,
            "grid_area": null,
            "grid_auto_columns": null,
            "grid_auto_flow": null,
            "grid_auto_rows": null,
            "grid_column": null,
            "grid_gap": null,
            "grid_row": null,
            "grid_template_areas": null,
            "grid_template_columns": null,
            "grid_template_rows": null,
            "height": null,
            "justify_content": null,
            "justify_items": null,
            "left": null,
            "margin": null,
            "max_height": null,
            "max_width": null,
            "min_height": null,
            "min_width": null,
            "object_fit": null,
            "object_position": null,
            "order": null,
            "overflow": null,
            "overflow_x": null,
            "overflow_y": null,
            "padding": null,
            "right": null,
            "top": null,
            "visibility": null,
            "width": null
          }
        },
        "2b72b0c15f904011ac2ba6ceeb0809e9": {
          "model_module": "@jupyter-widgets/controls",
          "model_name": "DescriptionStyleModel",
          "model_module_version": "1.5.0",
          "state": {
            "_model_module": "@jupyter-widgets/controls",
            "_model_module_version": "1.5.0",
            "_model_name": "DescriptionStyleModel",
            "_view_count": null,
            "_view_module": "@jupyter-widgets/base",
            "_view_module_version": "1.2.0",
            "_view_name": "StyleView",
            "description_width": ""
          }
        },
        "78bd0d2dd7c04e6487e08f11da0d99bc": {
          "model_module": "@jupyter-widgets/controls",
          "model_name": "HBoxModel",
          "model_module_version": "1.5.0",
          "state": {
            "_dom_classes": [],
            "_model_module": "@jupyter-widgets/controls",
            "_model_module_version": "1.5.0",
            "_model_name": "HBoxModel",
            "_view_count": null,
            "_view_module": "@jupyter-widgets/controls",
            "_view_module_version": "1.5.0",
            "_view_name": "HBoxView",
            "box_style": "",
            "children": [
              "IPY_MODEL_2caea68e8a2d42388825ee7f6b2374ac",
              "IPY_MODEL_dcb7b81119444bd48e2b92cf9e60d573",
              "IPY_MODEL_dac836dda8bd4113a2863ef79a4f2425"
            ],
            "layout": "IPY_MODEL_4dcc165132a34d8ba9c840375d020153"
          }
        },
        "2caea68e8a2d42388825ee7f6b2374ac": {
          "model_module": "@jupyter-widgets/controls",
          "model_name": "HTMLModel",
          "model_module_version": "1.5.0",
          "state": {
            "_dom_classes": [],
            "_model_module": "@jupyter-widgets/controls",
            "_model_module_version": "1.5.0",
            "_model_name": "HTMLModel",
            "_view_count": null,
            "_view_module": "@jupyter-widgets/controls",
            "_view_module_version": "1.5.0",
            "_view_name": "HTMLView",
            "description": "",
            "description_tooltip": null,
            "layout": "IPY_MODEL_f1313d10157c49e2b9a97a0794e44e60",
            "placeholder": "​",
            "style": "IPY_MODEL_bc7eac33505042b1a158642e18bf0dcd",
            "value": "added_tokens.json: 100%"
          }
        },
        "dcb7b81119444bd48e2b92cf9e60d573": {
          "model_module": "@jupyter-widgets/controls",
          "model_name": "FloatProgressModel",
          "model_module_version": "1.5.0",
          "state": {
            "_dom_classes": [],
            "_model_module": "@jupyter-widgets/controls",
            "_model_module_version": "1.5.0",
            "_model_name": "FloatProgressModel",
            "_view_count": null,
            "_view_module": "@jupyter-widgets/controls",
            "_view_module_version": "1.5.0",
            "_view_name": "ProgressView",
            "bar_style": "success",
            "description": "",
            "description_tooltip": null,
            "layout": "IPY_MODEL_3d21fcec2d174368b9d4938cf0d08e1b",
            "max": 1080,
            "min": 0,
            "orientation": "horizontal",
            "style": "IPY_MODEL_7e5b0bca6ffe4f188e0c23e26e3609e5",
            "value": 1080
          }
        },
        "dac836dda8bd4113a2863ef79a4f2425": {
          "model_module": "@jupyter-widgets/controls",
          "model_name": "HTMLModel",
          "model_module_version": "1.5.0",
          "state": {
            "_dom_classes": [],
            "_model_module": "@jupyter-widgets/controls",
            "_model_module_version": "1.5.0",
            "_model_name": "HTMLModel",
            "_view_count": null,
            "_view_module": "@jupyter-widgets/controls",
            "_view_module_version": "1.5.0",
            "_view_name": "HTMLView",
            "description": "",
            "description_tooltip": null,
            "layout": "IPY_MODEL_1d98825604dd428d92a86203f8c1173d",
            "placeholder": "​",
            "style": "IPY_MODEL_070a73a5ad0f434eba07f19c61c35d6e",
            "value": " 1.08k/1.08k [00:00&lt;00:00, 95.1kB/s]"
          }
        },
        "4dcc165132a34d8ba9c840375d020153": {
          "model_module": "@jupyter-widgets/base",
          "model_name": "LayoutModel",
          "model_module_version": "1.2.0",
          "state": {
            "_model_module": "@jupyter-widgets/base",
            "_model_module_version": "1.2.0",
            "_model_name": "LayoutModel",
            "_view_count": null,
            "_view_module": "@jupyter-widgets/base",
            "_view_module_version": "1.2.0",
            "_view_name": "LayoutView",
            "align_content": null,
            "align_items": null,
            "align_self": null,
            "border": null,
            "bottom": null,
            "display": null,
            "flex": null,
            "flex_flow": null,
            "grid_area": null,
            "grid_auto_columns": null,
            "grid_auto_flow": null,
            "grid_auto_rows": null,
            "grid_column": null,
            "grid_gap": null,
            "grid_row": null,
            "grid_template_areas": null,
            "grid_template_columns": null,
            "grid_template_rows": null,
            "height": null,
            "justify_content": null,
            "justify_items": null,
            "left": null,
            "margin": null,
            "max_height": null,
            "max_width": null,
            "min_height": null,
            "min_width": null,
            "object_fit": null,
            "object_position": null,
            "order": null,
            "overflow": null,
            "overflow_x": null,
            "overflow_y": null,
            "padding": null,
            "right": null,
            "top": null,
            "visibility": null,
            "width": null
          }
        },
        "f1313d10157c49e2b9a97a0794e44e60": {
          "model_module": "@jupyter-widgets/base",
          "model_name": "LayoutModel",
          "model_module_version": "1.2.0",
          "state": {
            "_model_module": "@jupyter-widgets/base",
            "_model_module_version": "1.2.0",
            "_model_name": "LayoutModel",
            "_view_count": null,
            "_view_module": "@jupyter-widgets/base",
            "_view_module_version": "1.2.0",
            "_view_name": "LayoutView",
            "align_content": null,
            "align_items": null,
            "align_self": null,
            "border": null,
            "bottom": null,
            "display": null,
            "flex": null,
            "flex_flow": null,
            "grid_area": null,
            "grid_auto_columns": null,
            "grid_auto_flow": null,
            "grid_auto_rows": null,
            "grid_column": null,
            "grid_gap": null,
            "grid_row": null,
            "grid_template_areas": null,
            "grid_template_columns": null,
            "grid_template_rows": null,
            "height": null,
            "justify_content": null,
            "justify_items": null,
            "left": null,
            "margin": null,
            "max_height": null,
            "max_width": null,
            "min_height": null,
            "min_width": null,
            "object_fit": null,
            "object_position": null,
            "order": null,
            "overflow": null,
            "overflow_x": null,
            "overflow_y": null,
            "padding": null,
            "right": null,
            "top": null,
            "visibility": null,
            "width": null
          }
        },
        "bc7eac33505042b1a158642e18bf0dcd": {
          "model_module": "@jupyter-widgets/controls",
          "model_name": "DescriptionStyleModel",
          "model_module_version": "1.5.0",
          "state": {
            "_model_module": "@jupyter-widgets/controls",
            "_model_module_version": "1.5.0",
            "_model_name": "DescriptionStyleModel",
            "_view_count": null,
            "_view_module": "@jupyter-widgets/base",
            "_view_module_version": "1.2.0",
            "_view_name": "StyleView",
            "description_width": ""
          }
        },
        "3d21fcec2d174368b9d4938cf0d08e1b": {
          "model_module": "@jupyter-widgets/base",
          "model_name": "LayoutModel",
          "model_module_version": "1.2.0",
          "state": {
            "_model_module": "@jupyter-widgets/base",
            "_model_module_version": "1.2.0",
            "_model_name": "LayoutModel",
            "_view_count": null,
            "_view_module": "@jupyter-widgets/base",
            "_view_module_version": "1.2.0",
            "_view_name": "LayoutView",
            "align_content": null,
            "align_items": null,
            "align_self": null,
            "border": null,
            "bottom": null,
            "display": null,
            "flex": null,
            "flex_flow": null,
            "grid_area": null,
            "grid_auto_columns": null,
            "grid_auto_flow": null,
            "grid_auto_rows": null,
            "grid_column": null,
            "grid_gap": null,
            "grid_row": null,
            "grid_template_areas": null,
            "grid_template_columns": null,
            "grid_template_rows": null,
            "height": null,
            "justify_content": null,
            "justify_items": null,
            "left": null,
            "margin": null,
            "max_height": null,
            "max_width": null,
            "min_height": null,
            "min_width": null,
            "object_fit": null,
            "object_position": null,
            "order": null,
            "overflow": null,
            "overflow_x": null,
            "overflow_y": null,
            "padding": null,
            "right": null,
            "top": null,
            "visibility": null,
            "width": null
          }
        },
        "7e5b0bca6ffe4f188e0c23e26e3609e5": {
          "model_module": "@jupyter-widgets/controls",
          "model_name": "ProgressStyleModel",
          "model_module_version": "1.5.0",
          "state": {
            "_model_module": "@jupyter-widgets/controls",
            "_model_module_version": "1.5.0",
            "_model_name": "ProgressStyleModel",
            "_view_count": null,
            "_view_module": "@jupyter-widgets/base",
            "_view_module_version": "1.2.0",
            "_view_name": "StyleView",
            "bar_color": null,
            "description_width": ""
          }
        },
        "1d98825604dd428d92a86203f8c1173d": {
          "model_module": "@jupyter-widgets/base",
          "model_name": "LayoutModel",
          "model_module_version": "1.2.0",
          "state": {
            "_model_module": "@jupyter-widgets/base",
            "_model_module_version": "1.2.0",
            "_model_name": "LayoutModel",
            "_view_count": null,
            "_view_module": "@jupyter-widgets/base",
            "_view_module_version": "1.2.0",
            "_view_name": "LayoutView",
            "align_content": null,
            "align_items": null,
            "align_self": null,
            "border": null,
            "bottom": null,
            "display": null,
            "flex": null,
            "flex_flow": null,
            "grid_area": null,
            "grid_auto_columns": null,
            "grid_auto_flow": null,
            "grid_auto_rows": null,
            "grid_column": null,
            "grid_gap": null,
            "grid_row": null,
            "grid_template_areas": null,
            "grid_template_columns": null,
            "grid_template_rows": null,
            "height": null,
            "justify_content": null,
            "justify_items": null,
            "left": null,
            "margin": null,
            "max_height": null,
            "max_width": null,
            "min_height": null,
            "min_width": null,
            "object_fit": null,
            "object_position": null,
            "order": null,
            "overflow": null,
            "overflow_x": null,
            "overflow_y": null,
            "padding": null,
            "right": null,
            "top": null,
            "visibility": null,
            "width": null
          }
        },
        "070a73a5ad0f434eba07f19c61c35d6e": {
          "model_module": "@jupyter-widgets/controls",
          "model_name": "DescriptionStyleModel",
          "model_module_version": "1.5.0",
          "state": {
            "_model_module": "@jupyter-widgets/controls",
            "_model_module_version": "1.5.0",
            "_model_name": "DescriptionStyleModel",
            "_view_count": null,
            "_view_module": "@jupyter-widgets/base",
            "_view_module_version": "1.2.0",
            "_view_name": "StyleView",
            "description_width": ""
          }
        },
        "89d7a1fa3d004e5c907bdf4147ac3d5c": {
          "model_module": "@jupyter-widgets/controls",
          "model_name": "HBoxModel",
          "model_module_version": "1.5.0",
          "state": {
            "_dom_classes": [],
            "_model_module": "@jupyter-widgets/controls",
            "_model_module_version": "1.5.0",
            "_model_name": "HBoxModel",
            "_view_count": null,
            "_view_module": "@jupyter-widgets/controls",
            "_view_module_version": "1.5.0",
            "_view_name": "HBoxView",
            "box_style": "",
            "children": [
              "IPY_MODEL_81923661b6724f0a900e9c3adc9101c0",
              "IPY_MODEL_54ed7e9876204cf48a91fb044c73040e",
              "IPY_MODEL_411feaf453f94a60a2a635a5e30f93c4"
            ],
            "layout": "IPY_MODEL_5a75c07f1e4449799aca2e885e4ff30a"
          }
        },
        "81923661b6724f0a900e9c3adc9101c0": {
          "model_module": "@jupyter-widgets/controls",
          "model_name": "HTMLModel",
          "model_module_version": "1.5.0",
          "state": {
            "_dom_classes": [],
            "_model_module": "@jupyter-widgets/controls",
            "_model_module_version": "1.5.0",
            "_model_name": "HTMLModel",
            "_view_count": null,
            "_view_module": "@jupyter-widgets/controls",
            "_view_module_version": "1.5.0",
            "_view_name": "HTMLView",
            "description": "",
            "description_tooltip": null,
            "layout": "IPY_MODEL_dfa37aa3076f4a8e8ea8365020f37614",
            "placeholder": "​",
            "style": "IPY_MODEL_027709acf8f347168a34d28977935f93",
            "value": "special_tokens_map.json: 100%"
          }
        },
        "54ed7e9876204cf48a91fb044c73040e": {
          "model_module": "@jupyter-widgets/controls",
          "model_name": "FloatProgressModel",
          "model_module_version": "1.5.0",
          "state": {
            "_dom_classes": [],
            "_model_module": "@jupyter-widgets/controls",
            "_model_module_version": "1.5.0",
            "_model_name": "FloatProgressModel",
            "_view_count": null,
            "_view_module": "@jupyter-widgets/controls",
            "_view_module_version": "1.5.0",
            "_view_name": "ProgressView",
            "bar_style": "success",
            "description": "",
            "description_tooltip": null,
            "layout": "IPY_MODEL_1e2b60eb6e1547b78eea006a879e0877",
            "max": 99,
            "min": 0,
            "orientation": "horizontal",
            "style": "IPY_MODEL_6bc69ca341784d89a2faa4de1334c30e",
            "value": 99
          }
        },
        "411feaf453f94a60a2a635a5e30f93c4": {
          "model_module": "@jupyter-widgets/controls",
          "model_name": "HTMLModel",
          "model_module_version": "1.5.0",
          "state": {
            "_dom_classes": [],
            "_model_module": "@jupyter-widgets/controls",
            "_model_module_version": "1.5.0",
            "_model_name": "HTMLModel",
            "_view_count": null,
            "_view_module": "@jupyter-widgets/controls",
            "_view_module_version": "1.5.0",
            "_view_name": "HTMLView",
            "description": "",
            "description_tooltip": null,
            "layout": "IPY_MODEL_b7957a0ecf2a4cb48ffcc17bb555f845",
            "placeholder": "​",
            "style": "IPY_MODEL_7dc1b78a3cf84b78b0a049b8b31a3461",
            "value": " 99.0/99.0 [00:00&lt;00:00, 8.27kB/s]"
          }
        },
        "5a75c07f1e4449799aca2e885e4ff30a": {
          "model_module": "@jupyter-widgets/base",
          "model_name": "LayoutModel",
          "model_module_version": "1.2.0",
          "state": {
            "_model_module": "@jupyter-widgets/base",
            "_model_module_version": "1.2.0",
            "_model_name": "LayoutModel",
            "_view_count": null,
            "_view_module": "@jupyter-widgets/base",
            "_view_module_version": "1.2.0",
            "_view_name": "LayoutView",
            "align_content": null,
            "align_items": null,
            "align_self": null,
            "border": null,
            "bottom": null,
            "display": null,
            "flex": null,
            "flex_flow": null,
            "grid_area": null,
            "grid_auto_columns": null,
            "grid_auto_flow": null,
            "grid_auto_rows": null,
            "grid_column": null,
            "grid_gap": null,
            "grid_row": null,
            "grid_template_areas": null,
            "grid_template_columns": null,
            "grid_template_rows": null,
            "height": null,
            "justify_content": null,
            "justify_items": null,
            "left": null,
            "margin": null,
            "max_height": null,
            "max_width": null,
            "min_height": null,
            "min_width": null,
            "object_fit": null,
            "object_position": null,
            "order": null,
            "overflow": null,
            "overflow_x": null,
            "overflow_y": null,
            "padding": null,
            "right": null,
            "top": null,
            "visibility": null,
            "width": null
          }
        },
        "dfa37aa3076f4a8e8ea8365020f37614": {
          "model_module": "@jupyter-widgets/base",
          "model_name": "LayoutModel",
          "model_module_version": "1.2.0",
          "state": {
            "_model_module": "@jupyter-widgets/base",
            "_model_module_version": "1.2.0",
            "_model_name": "LayoutModel",
            "_view_count": null,
            "_view_module": "@jupyter-widgets/base",
            "_view_module_version": "1.2.0",
            "_view_name": "LayoutView",
            "align_content": null,
            "align_items": null,
            "align_self": null,
            "border": null,
            "bottom": null,
            "display": null,
            "flex": null,
            "flex_flow": null,
            "grid_area": null,
            "grid_auto_columns": null,
            "grid_auto_flow": null,
            "grid_auto_rows": null,
            "grid_column": null,
            "grid_gap": null,
            "grid_row": null,
            "grid_template_areas": null,
            "grid_template_columns": null,
            "grid_template_rows": null,
            "height": null,
            "justify_content": null,
            "justify_items": null,
            "left": null,
            "margin": null,
            "max_height": null,
            "max_width": null,
            "min_height": null,
            "min_width": null,
            "object_fit": null,
            "object_position": null,
            "order": null,
            "overflow": null,
            "overflow_x": null,
            "overflow_y": null,
            "padding": null,
            "right": null,
            "top": null,
            "visibility": null,
            "width": null
          }
        },
        "027709acf8f347168a34d28977935f93": {
          "model_module": "@jupyter-widgets/controls",
          "model_name": "DescriptionStyleModel",
          "model_module_version": "1.5.0",
          "state": {
            "_model_module": "@jupyter-widgets/controls",
            "_model_module_version": "1.5.0",
            "_model_name": "DescriptionStyleModel",
            "_view_count": null,
            "_view_module": "@jupyter-widgets/base",
            "_view_module_version": "1.2.0",
            "_view_name": "StyleView",
            "description_width": ""
          }
        },
        "1e2b60eb6e1547b78eea006a879e0877": {
          "model_module": "@jupyter-widgets/base",
          "model_name": "LayoutModel",
          "model_module_version": "1.2.0",
          "state": {
            "_model_module": "@jupyter-widgets/base",
            "_model_module_version": "1.2.0",
            "_model_name": "LayoutModel",
            "_view_count": null,
            "_view_module": "@jupyter-widgets/base",
            "_view_module_version": "1.2.0",
            "_view_name": "LayoutView",
            "align_content": null,
            "align_items": null,
            "align_self": null,
            "border": null,
            "bottom": null,
            "display": null,
            "flex": null,
            "flex_flow": null,
            "grid_area": null,
            "grid_auto_columns": null,
            "grid_auto_flow": null,
            "grid_auto_rows": null,
            "grid_column": null,
            "grid_gap": null,
            "grid_row": null,
            "grid_template_areas": null,
            "grid_template_columns": null,
            "grid_template_rows": null,
            "height": null,
            "justify_content": null,
            "justify_items": null,
            "left": null,
            "margin": null,
            "max_height": null,
            "max_width": null,
            "min_height": null,
            "min_width": null,
            "object_fit": null,
            "object_position": null,
            "order": null,
            "overflow": null,
            "overflow_x": null,
            "overflow_y": null,
            "padding": null,
            "right": null,
            "top": null,
            "visibility": null,
            "width": null
          }
        },
        "6bc69ca341784d89a2faa4de1334c30e": {
          "model_module": "@jupyter-widgets/controls",
          "model_name": "ProgressStyleModel",
          "model_module_version": "1.5.0",
          "state": {
            "_model_module": "@jupyter-widgets/controls",
            "_model_module_version": "1.5.0",
            "_model_name": "ProgressStyleModel",
            "_view_count": null,
            "_view_module": "@jupyter-widgets/base",
            "_view_module_version": "1.2.0",
            "_view_name": "StyleView",
            "bar_color": null,
            "description_width": ""
          }
        },
        "b7957a0ecf2a4cb48ffcc17bb555f845": {
          "model_module": "@jupyter-widgets/base",
          "model_name": "LayoutModel",
          "model_module_version": "1.2.0",
          "state": {
            "_model_module": "@jupyter-widgets/base",
            "_model_module_version": "1.2.0",
            "_model_name": "LayoutModel",
            "_view_count": null,
            "_view_module": "@jupyter-widgets/base",
            "_view_module_version": "1.2.0",
            "_view_name": "LayoutView",
            "align_content": null,
            "align_items": null,
            "align_self": null,
            "border": null,
            "bottom": null,
            "display": null,
            "flex": null,
            "flex_flow": null,
            "grid_area": null,
            "grid_auto_columns": null,
            "grid_auto_flow": null,
            "grid_auto_rows": null,
            "grid_column": null,
            "grid_gap": null,
            "grid_row": null,
            "grid_template_areas": null,
            "grid_template_columns": null,
            "grid_template_rows": null,
            "height": null,
            "justify_content": null,
            "justify_items": null,
            "left": null,
            "margin": null,
            "max_height": null,
            "max_width": null,
            "min_height": null,
            "min_width": null,
            "object_fit": null,
            "object_position": null,
            "order": null,
            "overflow": null,
            "overflow_x": null,
            "overflow_y": null,
            "padding": null,
            "right": null,
            "top": null,
            "visibility": null,
            "width": null
          }
        },
        "7dc1b78a3cf84b78b0a049b8b31a3461": {
          "model_module": "@jupyter-widgets/controls",
          "model_name": "DescriptionStyleModel",
          "model_module_version": "1.5.0",
          "state": {
            "_model_module": "@jupyter-widgets/controls",
            "_model_module_version": "1.5.0",
            "_model_name": "DescriptionStyleModel",
            "_view_count": null,
            "_view_module": "@jupyter-widgets/base",
            "_view_module_version": "1.2.0",
            "_view_name": "StyleView",
            "description_width": ""
          }
        }
      }
    }
  },
  "cells": [
    {
      "cell_type": "markdown",
      "source": [
        "# Analyse pre-trained model's output"
      ],
      "metadata": {
        "id": "hIBz6WkK83-c"
      }
    },
    {
      "cell_type": "code",
      "source": [
        "from google.colab import drive\n",
        "# drive.mount('/content/drive')"
      ],
      "metadata": {
        "id": "dOykphLYjVsi"
      },
      "execution_count": null,
      "outputs": []
    },
    {
      "cell_type": "code",
      "source": [
        "from google.colab import runtime\n",
        "runtime.unassign()"
      ],
      "metadata": {
        "id": "DKRrZbgsO1Z4"
      },
      "execution_count": null,
      "outputs": []
    },
    {
      "cell_type": "code",
      "source": [
        "!pip install fuzzywuzzy\n",
        "!pip install python-Levenshtein\n",
        "!pip install tree-sitter\n",
        "!pip install rouge-score"
      ],
      "metadata": {
        "id": "pjxDCjQDVH7U"
      },
      "execution_count": null,
      "outputs": []
    },
    {
      "cell_type": "markdown",
      "source": [
        "# Open model & load data"
      ],
      "metadata": {
        "id": "1CijgZdh80-y"
      }
    },
    {
      "cell_type": "code",
      "source": [
        "from transformers import AutoTokenizer, AutoModelForCausalLM\n",
        "import datetime\n",
        "import torch\n",
        "import random\n",
        "import numpy as np\n",
        "import json\n",
        "import re\n",
        "import pandas as pd\n",
        "import tree_sitter\n",
        "from fuzzywuzzy import fuzz\n",
        "import Levenshtein\n",
        "import nltk\n",
        "from nltk.translate.bleu_score import sentence_bleu\n",
        "from rouge_score import rouge_scorer\n",
        "# Info is here: https://github.com/seatgeek/thefuzz"
      ],
      "metadata": {
        "id": "HUVRyeWvVClJ"
      },
      "execution_count": null,
      "outputs": []
    },
    {
      "cell_type": "code",
      "execution_count": null,
      "metadata": {
        "id": "XrzVyonejB05",
        "colab": {
          "base_uri": "https://localhost:8080/",
          "height": 468,
          "referenced_widgets": [
            "4695f8071a43402e8ad8fcf87b738093",
            "137af67636764c829bfac0cd038af06d",
            "a5803a9204ed495687967fcbed67410e",
            "5566a7cb9bc64287adbf2af3e6e7fe24",
            "a1e34262a37e48bc8c9c27bc95fcd6a4",
            "425fed41605e4c138fd3495baba86456",
            "1c9d770a3e79404eb9edc2e2659ad5d9",
            "6c1d146882e84cd299bb20823ce6d4ed",
            "5d0658d241fc4c7ab3ddcf7767ece010",
            "a27c5cadc69f4b07a44f17bd3f2603b2",
            "f00d1cf9b1a44658ba46b7ee6fb9e057",
            "a6033f1f31bc4305939997c711bec544",
            "3812846c6c2e49a1835cff33c5d9e139",
            "c3bec5b698f842a391169964bf9bf95a",
            "587288035f544b7dbb51e71e50a7cbff",
            "b9f48f741a79492ab3648642be855e44",
            "f820276130e14d3e890271046b2e7562",
            "0b75935e606941769123a117b9348c0c",
            "0aa7e09fb59448d7a6c4e278860e4018",
            "f64f22f939174efb807696debb3f4adb",
            "2796ebe97db94317b409e68b7156051d",
            "61327550c00d49b1b4803c962611a8dd",
            "2ef1d8db45524f2c85877b885d7c0ffc",
            "d19a051e901c47bc9a369472e33b844a",
            "1b3ab2a1339d46cdbe4c5c8f2836a44d",
            "b41d6a026cd04d4c896d56d7af0862fa",
            "891e15f305a74e35a7f02f6026507be6",
            "c3db5468f4044166ba45001fdc4c032d",
            "a406edc882b944a4aa15664ea8795b8e",
            "25158b29e5a14807962bd66ae7a6f020",
            "e1cca32203654784bb1ba4eee14901fa",
            "057e7e2ef2f24d21bf68f89803a6c1c8",
            "89141124e8d84bffafd6146661476ad5",
            "6df4782e5c604b6d8bce5ae5cbdff0d0",
            "74ef55440ffa4598863b5fdc72526470",
            "3f720943362544c494e6ae9c83742531",
            "659b7c1107da4796b501cd9a81e46df5",
            "ece5b6e53aec493abcdbb03058d8fde4",
            "6326f19be9054346bd05d19884fbaec4",
            "87f71b894c6e46d48ebf9f9bc0588774",
            "2246a5d679e74d52a5119d58230ecd78",
            "771dadcdab6e4062825d0e91175601ac",
            "d1ec55766e7d45c680d89fd703d49947",
            "40236d91c934481fb18719685d940521",
            "752c5c9a00ad4dc783e38256d602ba74",
            "9a41526460144a8492b7ea03b560b355",
            "c6cca9d8d9e54c339d41741ae3d8e3d4",
            "3ce31cd9fd214a1c88343067c8a9b29a",
            "dca33a02beb247aca6c54a16785cc424",
            "a73359026e474fc4bbdf92e96b828929",
            "f8d228c42a0641cba5303aee752ba8c3",
            "d7f2d113f17b4a37a5ac1aced316154f",
            "ec5247ded62e4f63aa74135f6df95463",
            "066b590a8c884b43948f7d0e0984c48f",
            "49d4d8953e5f4ff290e7179c19e104bf",
            "c12074f266bf4a81bec5dfdac732fa7a",
            "44103d2a812c44408ce94a6f10b32afc",
            "e8a01081e47a4d9aaf2fc8d1106e2778",
            "97de5f1b98df4e598cecd7287f04280f",
            "62b615cd66a34759a77453bf9accb3c6",
            "62039abeba9542308ad142ae5fe5f4f2",
            "9c28c6d11d8e4187afc797b305a14e19",
            "07f9a32eeac74620ae947a8709627279",
            "583df5effb644511a91414a84b1867e2",
            "918e841b4e35409aa3a61fe70d06c02a",
            "888a61db8be0464fb94dd11ce9099160",
            "024081b34f914fa79d361e18edbb4029",
            "00455867bc204be48db2189ede36e827",
            "d50f0fbc38fc4c099bbde84b94e37a13",
            "6473ab5cff3a45adb2de4ef8ed267949",
            "db0cc52531e048b881de0cb9f7d41f61",
            "8e92c57efa8d4eb99c950fda9eb7372d",
            "a34400f1c7904748a20a187fee2d8fb5",
            "5f07437f05b4453fb8ec7fbed47815ad",
            "b2a4a3e1948b4b44a8612f83018779f5",
            "6c925ae4c0454ccaa3a5621e0ef8e0b6",
            "2b72b0c15f904011ac2ba6ceeb0809e9",
            "78bd0d2dd7c04e6487e08f11da0d99bc",
            "2caea68e8a2d42388825ee7f6b2374ac",
            "dcb7b81119444bd48e2b92cf9e60d573",
            "dac836dda8bd4113a2863ef79a4f2425",
            "4dcc165132a34d8ba9c840375d020153",
            "f1313d10157c49e2b9a97a0794e44e60",
            "bc7eac33505042b1a158642e18bf0dcd",
            "3d21fcec2d174368b9d4938cf0d08e1b",
            "7e5b0bca6ffe4f188e0c23e26e3609e5",
            "1d98825604dd428d92a86203f8c1173d",
            "070a73a5ad0f434eba07f19c61c35d6e",
            "89d7a1fa3d004e5c907bdf4147ac3d5c",
            "81923661b6724f0a900e9c3adc9101c0",
            "54ed7e9876204cf48a91fb044c73040e",
            "411feaf453f94a60a2a635a5e30f93c4",
            "5a75c07f1e4449799aca2e885e4ff30a",
            "dfa37aa3076f4a8e8ea8365020f37614",
            "027709acf8f347168a34d28977935f93",
            "1e2b60eb6e1547b78eea006a879e0877",
            "6bc69ca341784d89a2faa4de1334c30e",
            "b7957a0ecf2a4cb48ffcc17bb555f845",
            "7dc1b78a3cf84b78b0a049b8b31a3461"
          ]
        },
        "outputId": "49d831f0-14c4-452e-df87-d121a017a0aa"
      },
      "outputs": [
        {
          "output_type": "stream",
          "name": "stdout",
          "text": [
            "Loading model...\n"
          ]
        },
        {
          "output_type": "stream",
          "name": "stderr",
          "text": [
            "/usr/local/lib/python3.10/dist-packages/huggingface_hub/utils/_token.py:88: UserWarning: \n",
            "The secret `HF_TOKEN` does not exist in your Colab secrets.\n",
            "To authenticate with the Hugging Face Hub, create a token in your settings tab (https://huggingface.co/settings/tokens), set it as secret in your Google Colab and restart your session.\n",
            "You will be able to reuse this secret in all of your notebooks.\n",
            "Please note that authentication is recommended but still optional to access public models or datasets.\n",
            "  warnings.warn(\n"
          ]
        },
        {
          "output_type": "display_data",
          "data": {
            "text/plain": [
              "config.json:   0%|          | 0.00/736 [00:00<?, ?B/s]"
            ],
            "application/vnd.jupyter.widget-view+json": {
              "version_major": 2,
              "version_minor": 0,
              "model_id": "4695f8071a43402e8ad8fcf87b738093"
            }
          },
          "metadata": {}
        },
        {
          "output_type": "display_data",
          "data": {
            "text/plain": [
              "model.safetensors:   0%|          | 0.00/2.84G [00:00<?, ?B/s]"
            ],
            "application/vnd.jupyter.widget-view+json": {
              "version_major": 2,
              "version_minor": 0,
              "model_id": "a6033f1f31bc4305939997c711bec544"
            }
          },
          "metadata": {}
        },
        {
          "output_type": "display_data",
          "data": {
            "text/plain": [
              "generation_config.json:   0%|          | 0.00/74.0 [00:00<?, ?B/s]"
            ],
            "application/vnd.jupyter.widget-view+json": {
              "version_major": 2,
              "version_minor": 0,
              "model_id": "2ef1d8db45524f2c85877b885d7c0ffc"
            }
          },
          "metadata": {}
        },
        {
          "output_type": "display_data",
          "data": {
            "text/plain": [
              "tokenizer_config.json:   0%|          | 0.00/237 [00:00<?, ?B/s]"
            ],
            "application/vnd.jupyter.widget-view+json": {
              "version_major": 2,
              "version_minor": 0,
              "model_id": "6df4782e5c604b6d8bce5ae5cbdff0d0"
            }
          },
          "metadata": {}
        },
        {
          "output_type": "display_data",
          "data": {
            "text/plain": [
              "vocab.json:   0%|          | 0.00/798k [00:00<?, ?B/s]"
            ],
            "application/vnd.jupyter.widget-view+json": {
              "version_major": 2,
              "version_minor": 0,
              "model_id": "752c5c9a00ad4dc783e38256d602ba74"
            }
          },
          "metadata": {}
        },
        {
          "output_type": "display_data",
          "data": {
            "text/plain": [
              "merges.txt:   0%|          | 0.00/456k [00:00<?, ?B/s]"
            ],
            "application/vnd.jupyter.widget-view+json": {
              "version_major": 2,
              "version_minor": 0,
              "model_id": "c12074f266bf4a81bec5dfdac732fa7a"
            }
          },
          "metadata": {}
        },
        {
          "output_type": "display_data",
          "data": {
            "text/plain": [
              "tokenizer.json:   0%|          | 0.00/2.11M [00:00<?, ?B/s]"
            ],
            "application/vnd.jupyter.widget-view+json": {
              "version_major": 2,
              "version_minor": 0,
              "model_id": "024081b34f914fa79d361e18edbb4029"
            }
          },
          "metadata": {}
        },
        {
          "output_type": "display_data",
          "data": {
            "text/plain": [
              "added_tokens.json:   0%|          | 0.00/1.08k [00:00<?, ?B/s]"
            ],
            "application/vnd.jupyter.widget-view+json": {
              "version_major": 2,
              "version_minor": 0,
              "model_id": "78bd0d2dd7c04e6487e08f11da0d99bc"
            }
          },
          "metadata": {}
        },
        {
          "output_type": "display_data",
          "data": {
            "text/plain": [
              "special_tokens_map.json:   0%|          | 0.00/99.0 [00:00<?, ?B/s]"
            ],
            "application/vnd.jupyter.widget-view+json": {
              "version_major": 2,
              "version_minor": 0,
              "model_id": "89d7a1fa3d004e5c907bdf4147ac3d5c"
            }
          },
          "metadata": {}
        },
        {
          "output_type": "stream",
          "name": "stdout",
          "text": [
            "Model loaded. Time to load the model: 0:00:14.755636\n"
          ]
        }
      ],
      "source": [
        "torch.set_default_device(\"cuda\")\n",
        "\n",
        "print(\"Loading model...\")\n",
        "time = datetime.datetime.now()\n",
        "model = AutoModelForCausalLM.from_pretrained(\"microsoft/phi-1_5\", torch_dtype=\"auto\")\n",
        "tokenizer = AutoTokenizer.from_pretrained(\"microsoft/phi-1_5\")\n",
        "time1 = datetime.datetime.now()\n",
        "print(f\"Model loaded. Time to load the model: {time1 - time}\")"
      ]
    },
    {
      "cell_type": "code",
      "source": [
        "def replace_tags(code):\n",
        "    \"\"\"\n",
        "    Replaces special tags in the input code with their corresponding literals or empty strings.\n",
        "    Original function is here:\n",
        "    https://github.com/microsoft/CodeXGLUE/blob/main/Code-Code/CodeCompletion-line/evaluator/evaluator.py\n",
        "\n",
        "    Parameters:\n",
        "        code (str): The input code containing special tags.\n",
        "\n",
        "    Returns:\n",
        "        str: The code with tags replaced by literals or empty strings.\n",
        "    \"\"\"\n",
        "    # Replace special tags with their corresponding literals or empty strings\n",
        "    code = code.replace(\"<NUM_LIT>\", \"0\").replace(\"<STR_LIT>\", \"\").replace(\"<CHAR_LIT>\", \"\")\n",
        "\n",
        "    # Find literals enclosed in special tags and replace them with the literal itself\n",
        "    pattern = re.compile(r\"<(STR|NUM|CHAR)_LIT:(.*?)>\", re.S)\n",
        "    lits = re.findall(pattern, code)\n",
        "    for lit in lits:\n",
        "        code = code.replace(f\"<{lit[0]}_LIT:{lit[1]}>\", lit[1])\n",
        "\n",
        "    # Find special tags and replace them with empty spaces\n",
        "    pattern = r'<([A-Z][^<>]*)>'\n",
        "    liners = re.findall(pattern, code)\n",
        "    for tag in liners:\n",
        "        code = code.replace(f'<{tag}>', ' ')\n",
        "\n",
        "    return code\n",
        "\n",
        "def read_jsonl_file(file_path):\n",
        "    \"\"\"\n",
        "    Reads a JSONL file and replaces special tags in the 'signature' and 'body' fields of each JSON object.\n",
        "\n",
        "    Parameters:\n",
        "        file_path (str): The path to the JSONL file.\n",
        "\n",
        "    Returns:\n",
        "        list: A list of dictionaries, each containing the modified JSON objects.\n",
        "    \"\"\"\n",
        "    data = []\n",
        "    with open(file_path, 'r') as f:\n",
        "        for line in f:\n",
        "            json_obj = json.loads(line)\n",
        "            json_obj['signature'] = replace_tags(json_obj['signature'])\n",
        "            json_obj['body'] = replace_tags(json_obj['body'])\n",
        "            data.append(json_obj)\n",
        "    return data\n",
        "\n",
        "file_path = '/content/drive/MyDrive/CodeCompletion/CodeXGlue/test.jsonl'\n",
        "codexglue_test = read_jsonl_file(file_path)\n",
        "print(codexglue_test[0])\n",
        "\n",
        "file_path = '/content/drive/MyDrive/CodeCompletion/functions_df_inputs_outputs.csv'\n",
        "functions_df = pd.read_csv(file_path)\n",
        "print(functions_df.iloc[0])"
      ],
      "metadata": {
        "colab": {
          "base_uri": "https://localhost:8080/"
        },
        "id": "Z3zscWI_9yfy",
        "outputId": "5fbaf34c-891c-4684-cf15-9be5e34c32d4"
      },
      "execution_count": null,
      "outputs": [
        {
          "output_type": "stream",
          "name": "stdout",
          "text": [
            "{'signature': 'def debug(user, message):', 'body': 'message_user(user, message, constants.DEBUG) ', 'docstring': 'Adds a message with the ``DEBUG`` level.\\n\\n:param user: User instance\\n:param message: Message to show', 'id': 'f4:m0'}\n",
            "Unnamed: 0                                                              0\n",
            "function_id                                                         27692\n",
            "signature               private fun bitIndex(elementIndex: Int, bitOff...\n",
            "body                    =\\n        elementIndex * ELEMENT_SIZE + bitOf...\n",
            "is_single_expression                                                 True\n",
            "is_test                                                             False\n",
            "0-20                                                                False\n",
            "100+                                                                False\n",
            "20-50                                                               False\n",
            "50-100                                                               True\n",
            "Name: 0, dtype: object\n"
          ]
        }
      ]
    },
    {
      "cell_type": "markdown",
      "source": [
        "# Control ouput\n",
        "There is often code with repetitions and unnecessary information generated by the model. We need to create some tools to control our output.\n"
      ],
      "metadata": {
        "id": "f-1zm0LofJ8K"
      }
    },
    {
      "cell_type": "code",
      "source": [
        "def extract_function_python(code, signature):\n",
        "    \"\"\"\n",
        "    The fastest way to extract function from the output - regex.\n",
        "    But this approach has some downfalls, s.t. it does not consider nested function\n",
        "    \"\"\"\n",
        "    # Regular expression pattern to match function definitions\n",
        "    pattern = r\"def\\s+(\\w+)\\s*\\(.*?\\):[\\s\\S]*?(?=def|\\Z)\"\n",
        "\n",
        "    match = re.search(pattern, code)\n",
        "\n",
        "    if match and not match.group(0).split(signature, 1)[-1].strip() == '':\n",
        "        return match.group(0)\n",
        "    else:\n",
        "        return str(code)"
      ],
      "metadata": {
        "colab": {
          "base_uri": "https://localhost:8080/"
        },
        "id": "NCTCxiYzfJGR",
        "outputId": "3684cc48-027b-460f-8529-650d2889385c"
      },
      "execution_count": null,
      "outputs": [
        {
          "output_type": "stream",
          "name": "stdout",
          "text": [
            "def greet(name):\n",
            "    print(\"Hello, \" + name + \"!\")\n",
            "\n",
            "\n"
          ]
        }
      ]
    },
    {
      "cell_type": "code",
      "source": [
        "LANGUAGE_BUILDER_PATH = '/content/drive/MyDrive/CodeCompletion/parser/build/my-language.so'\n",
        "REPO_PATHS = '/content/drive/MyDrive/CodeCompletion/parser/tree-sitter-kotlin'\n",
        "\n",
        "tree_sitter.Language.build_library(LANGUAGE_BUILDER_PATH, [REPO_PATHS])\n",
        "KOTLIN_LANGUAGE = tree_sitter.Language(LANGUAGE_BUILDER_PATH, 'kotlin')\n",
        "parser_kotlin = tree_sitter.Parser()\n",
        "parser_kotlin.set_language(KOTLIN_LANGUAGE)\n",
        "\n",
        "def extract_function_kotlin(code, signature):\n",
        "  pattern = r\"fun\\s+(\\w+)\\s*\\(.*?\\)\\s*{[\\s\\S]*?(?=fun|\\Z)\"\n",
        "  match = re.search(pattern, code)\n",
        "\n",
        "  if match and not match.group(0).split(signature, 1)[-1].strip() == '':\n",
        "    return match.group(0)\n",
        "  else:\n",
        "    tree = parser_kotlin.parse(bytes(code, \"utf8\"))\n",
        "    root_node = tree.root_node\n",
        "    if root_node.children[0].type == 'function_declaration':\n",
        "      return root_node.children[0].text.decode('utf-8')\n",
        "    else:\n",
        "      return str(code)"
      ],
      "metadata": {
        "colab": {
          "base_uri": "https://localhost:8080/"
        },
        "id": "QDC43j6KiaxP",
        "outputId": "aecd43a1-8221-464b-cbf8-caf57bd4d695"
      },
      "execution_count": null,
      "outputs": [
        {
          "output_type": "stream",
          "name": "stdout",
          "text": [
            "fun assertTasksPackedToCache(vararg taskPaths: String): BuildResult <String> {\n",
            "    val cache = Cache<String, BuildResult<String>>()\n",
            "    val taskPaths = taskPaths.toList()\n",
            "    taskPaths.forEach { taskPath ->\n",
            "        val task = Task(taskPath)\n",
            "        val result = task.run()\n",
            "        cache.put(taskPath, result)\n",
            "    }\n",
            "}\n"
          ]
        }
      ]
    },
    {
      "cell_type": "code",
      "source": [
        "# Example of usage\n",
        "code = \"\"\"\n",
        "def debug(user, message): print(f'{user} - {message}')\n",
        "def _check(path):  messageFiles = path.globChildren('*') for message in messageFiles:  if message.basename().endswith(''):  continue  receiver.message(message.getContent()) message.remove() return functools.partial(_check, path) def has_resuming(): return False\n",
        "\"\"\"\n",
        "\n",
        "# Extract the first function definition\n",
        "extracted_fun = extract_function_python(code, 'def debug(user, message):')\n",
        "print(extracted_fun)"
      ],
      "metadata": {
        "id": "SNw75nX7SX7r"
      },
      "execution_count": null,
      "outputs": []
    },
    {
      "cell_type": "markdown",
      "source": [
        "# Output evaluation\n",
        "Generate output for some small sample from CodeXGlue and compute few metrics"
      ],
      "metadata": {
        "id": "VjTulUspZ_KA"
      }
    },
    {
      "cell_type": "code",
      "source": [
        "# We don't need stemmer here, because we want to compare full tokens\n",
        "scorer = rouge_scorer.RougeScorer(['rouge1'], use_stemmer=False, tokenizer=tokenizer)\n",
        "\n",
        "def compute_metrics(ref, text):\n",
        "  edit_sim = fuzz.ratio(text, ref)\n",
        "  chrf_score = nltk.translate.chrf_score.chrf_precision_recall_fscore_support(ref, text, 4)[2] # Return only f-score\n",
        "  rogue_scores = scorer.score(ref, text)['rouge1']\n",
        "  return edit_sim, chrf_score, rogue_scores.precision, rogue_scores.recall, rogue_scores.fmeasure"
      ],
      "metadata": {
        "id": "hHdhgpw8krkq"
      },
      "execution_count": null,
      "outputs": []
    },
    {
      "cell_type": "code",
      "source": [
        "# Example of computing metrics\n",
        "generated_code = '''\n",
        "def loads(s, strip_comments=False, **kw):\n",
        "    return [Node.create(s, **kw) for s in s.split('\\n') if s]\n",
        "'''\n",
        "\n",
        "reference_code = '''\n",
        "def loads(s, strip_comments=False, **kw):\n",
        "    kw[''] = strip_comments\n",
        "    return [parse_node(ss.strip(), **kw) for ss in s.split(';') if ss.strip()]\n",
        "'''\n",
        "\n",
        "def print_metrics(reference_code, generated_code):\n",
        "  metrics = compute_metrics(reference_code, generated_code)\n",
        "  metrics_names = ['edit_sim', 'chrf_score', 'rogue_scores']\n",
        "  print(\"Results: \")\n",
        "  for i in range(len(metrics)):\n",
        "    if metrics_names[i] == 'rogue_scores':\n",
        "      token = scorer._tokenizer\n",
        "      print(f\"Generated tokens: \\n\\tGenerated code tokenized length: {len(token(generated_code)['input_ids'])} \\n\\tReference code tokenized length: {len(token(reference_code)['input_ids'])}\")\n",
        "      print(metrics_names[i])\n",
        "      for key, value in metrics[i].items():\n",
        "        print(f'\\t{key}: {value}')\n",
        "    else:\n",
        "      print(f\"{metrics_names[i]}: {metrics[i]}\")\n",
        "\n",
        "print_metrics(reference_code, generated_code)"
      ],
      "metadata": {
        "colab": {
          "base_uri": "https://localhost:8080/"
        },
        "id": "-HySMGDclJ5s",
        "outputId": "f0ee53a5-e5a6-4bdb-cbc4-9e152af537d9"
      },
      "execution_count": null,
      "outputs": [
        {
          "output_type": "stream",
          "name": "stdout",
          "text": [
            "Results: \n",
            "edit_sim: 75\n",
            "chrf_score: 0.5131761442441054\n",
            "Generated tokens: \n",
            "\tGenerated code tokenized length: 41 \n",
            "\tReference code tokenized length: 58\n",
            "rogue_scores\n",
            "\trouge1: Score(precision=0.8536585365853658, recall=0.603448275862069, fmeasure=0.7070707070707071)\n"
          ]
        }
      ]
    },
    {
      "cell_type": "markdown",
      "source": [
        "# Python code completion\n",
        "Try few-shot code generation using Phi-1.5, with examples randomly selected from a dataset to provide context\n"
      ],
      "metadata": {
        "id": "5_ro6_ts4Ush"
      }
    },
    {
      "cell_type": "code",
      "source": [
        "index = 12\n",
        "\n",
        "def create_prompt_codex(dataset, index, num_examples, context=None, language='Python'):\n",
        "  indices = random.sample(range(len(dataset)), num_examples)\n",
        "  prefix = f'Complete code\\nLanguage: {language}\\n'\n",
        "  shots = '\\n'.join([f\"Example: {dataset[i]['signature']} {dataset[i]['body']}\" for i in indices])\n",
        "\n",
        "  data = dataset[index]\n",
        "  if context:\n",
        "    prompt = f\"{prefix}\\n{shots}\\n{context}\\nCode so far: {data['signature']}\"\n",
        "  else:\n",
        "    prompt = f\"{prefix}\\n{shots}\\nCode so far: {data['signature']}\"\n",
        "\n",
        "  return prompt\n",
        "\n",
        "prompt = create_prompt_codex(codexglue_test, index, 2)\n",
        "inputs = tokenizer(prompt, return_tensors=\"pt\", return_attention_mask=False)\n",
        "\n",
        "print(f'\\033[96mFew-shots prompt (without context of functions): \\n{prompt}\\n')"
      ],
      "metadata": {
        "colab": {
          "base_uri": "https://localhost:8080/"
        },
        "id": "eI_rblr02aZc",
        "outputId": "0db27efc-6474-49d9-8aab-a0b68b184d52"
      },
      "execution_count": null,
      "outputs": [
        {
          "output_type": "stream",
          "name": "stdout",
          "text": [
            "\u001b[96mFew-shots prompt (without context of functions): \n",
            "Complete code\n",
            "Language: Python\n",
            "\n",
            "Example: def _set_state(self, v, load=False): if hasattr(v, \"\"):  v = v._utype(v)  try:  t = YANGDynClass( v, base=state.state, is_container=\"\", yang_name=\"state\", parent=self, path_helper=self._path_helper, extmethods=self._extmethods, register_paths=True, extensions=None, namespace=\"\", defining_module=\"\", yang_type=\"\", is_config=True, )  except (TypeError, ValueError):  raise ValueError( { \"\": \"\"\"\"\"\", \"\": \"\", \"\": \"\"\"\"\"\", } )  self.__state = t if hasattr(self, \"\"):  self._set()  \n",
            "Example: def list_operations( self, custom_headers=None, raw=False, **operation_config): def internal_paging(next_link=None, raw=False):  if not next_link:  url = self.list_operations.metadata['url'] query_parameters = {} query_parameters[''] = self._serialize.query(\"\", self.api_version, 'str')  else:  url = next_link query_parameters = {}  header_parameters = {} header_parameters['Content-Type'] = '' if self.config.generate_client_request_id:  header_parameters[''] = str(uuid.uuid1())  if custom_headers:  header_parameters.update(custom_headers)  if self.config.accept_language is not None:  header_parameters[''] = self._serialize.header(\"\", self.config.accept_language, 'str')  request = self._client.get(url, query_parameters) response = self._client.send( request, header_parameters, stream=False, **operation_config) if response.status_code not in [200]:  raise models.ErrorException(self._deserialize, response)  return response  deserialized = models.MapsOperationsValueItemPaged(internal_paging, self._deserialize.dependencies) if raw:  header_dict = {} client_raw_response = models.MapsOperationsValueItemPaged(internal_paging, self._deserialize.dependencies, header_dict) return client_raw_response  return deserialized \n",
            "Code so far: def loads(s, strip_comments=False, **kw):\n",
            "\n"
          ]
        }
      ]
    },
    {
      "cell_type": "code",
      "source": [
        "print(\"Generating output...\")\n",
        "time = datetime.datetime.now()\n",
        "\n",
        "outputs = model.generate(**inputs, max_length=inputs['input_ids'].shape[-1] + 100)\n",
        "text_python = tokenizer.batch_decode(outputs)[0]\n",
        "function = text_python.split(\"Code so far: \", 1)[-1]\n",
        "function = extract_function_python(function)\n",
        "\n",
        "time1 = datetime.datetime.now()\n",
        "print(f\"Output generated. Time to generate the output: {time1 - time}. \\nOutput:\")\n",
        "print(f'\\033[92m{function}')"
      ],
      "metadata": {
        "colab": {
          "base_uri": "https://localhost:8080/"
        },
        "id": "fiiDY3ykIbT9",
        "outputId": "fc54ba19-708c-4168-e869-92e4e33d0ac6"
      },
      "execution_count": null,
      "outputs": [
        {
          "output_type": "stream",
          "name": "stdout",
          "text": [
            "Generating output...\n",
            "Output generated. Time to generate the output: 0:00:02.995710. \n",
            "Output:\n",
            "\u001b[92mdef loads(s, strip_comments=False, **kw):  if strip_comments:  s = s.split('\\n')  return [self._deserialize.loads(line, **kw) for line in s] \n"
          ]
        }
      ]
    },
    {
      "cell_type": "code",
      "source": [
        "reference = codexglue_test[index]['signature'] + codexglue_test[index]['body']\n",
        "print(f'Reference: \\033[92m{reference}\\033[0m')\n",
        "print_metrics(function, generated_code)"
      ],
      "metadata": {
        "colab": {
          "base_uri": "https://localhost:8080/"
        },
        "id": "vquXXqCfuMDQ",
        "outputId": "72ef0c51-964f-4c69-e652-1750ff3c161b"
      },
      "execution_count": null,
      "outputs": [
        {
          "output_type": "stream",
          "name": "stdout",
          "text": [
            "Reference: \u001b[92mdef loads(s, strip_comments=False, **kw):kw[''] = strip_comments return [parse_node(ss.strip(), **kw) for ss in s.split(';') if ss.strip()] \u001b[0m\n",
            "Results: \n",
            "edit_sim: 64\n",
            "chrf_score: 0.48399106478034254\n",
            "Generated tokens: \n",
            "\tGenerated code tokenized length: 41 \n",
            "\tReference code tokenized length: 52\n",
            "rogue_scores\n",
            "\trouge1: Score(precision=0.7804878048780488, recall=0.6153846153846154, fmeasure=0.6881720430107527)\n"
          ]
        }
      ]
    },
    {
      "cell_type": "markdown",
      "source": [
        "Now, let's add context of a function"
      ],
      "metadata": {
        "id": "zeUZmtL5S1IZ"
      }
    },
    {
      "cell_type": "code",
      "source": [
        "function_context = f\"Function context: {codexglue_test[12]['docstring']}\"\n",
        "prompt = create_prompt_codex(codexglue_test, 12, 2, function_context)\n",
        "inputs = tokenizer(prompt, return_tensors=\"pt\", return_attention_mask=False)\n",
        "print(f'\\033[96mmFew-shots prompt (with context of functions): \\n{prompt}\\n')"
      ],
      "metadata": {
        "colab": {
          "base_uri": "https://localhost:8080/"
        },
        "id": "lGTJ2rapS0Ev",
        "outputId": "ba5d0e74-54a2-4cc6-ca91-06da5afd9c79"
      },
      "execution_count": null,
      "outputs": [
        {
          "output_type": "stream",
          "name": "stdout",
          "text": [
            "\u001b[96mmFew-shots prompt (with context of functions): \n",
            "Complete code\n",
            "Language: Python\n",
            "\n",
            "Example: def setUp(self): DirectoryBasedTest.setUp(self) self.receiver = EventRecorder() self.monitor = directory_monitor.checker(self.testDirectory, self.receiver) self.assertFalse(self.receiver.events) \n",
            "Example: def splitdrive(p): return '', p \n",
            "Function context: Load a list of trees from a Newick formatted string.\n",
            "\n",
            ":param s: Newick formatted string.\n",
            ":param strip_comments: Flag signaling whether to strip comments enclosed in square \\\n",
            "brackets.\n",
            ":param kw: Keyword arguments are passed through to `Node.create`.\n",
            ":return: List of Node objects.\n",
            "Code so far: def loads(s, strip_comments=False, **kw):\n",
            "\n"
          ]
        }
      ]
    },
    {
      "cell_type": "code",
      "source": [
        "print(\"Generating output...\")\n",
        "time = datetime.datetime.now()\n",
        "\n",
        "outputs = model.generate(**inputs, max_length=inputs['input_ids'].shape[-1] + 80)\n",
        "text_python_context = tokenizer.batch_decode(outputs)[0]\n",
        "function = text_python_context.split(\"Code so far: \", 1)[-1]\n",
        "function = extract_function_python(function)\n",
        "\n",
        "time1 = datetime.datetime.now()\n",
        "print(f\"Output generated. Time to generate the output: {time1 - time}. \\nOutput:\")\n",
        "print(f'\\033[92m{function}')"
      ],
      "metadata": {
        "colab": {
          "base_uri": "https://localhost:8080/"
        },
        "id": "2Wh5kyYnTpwY",
        "outputId": "9e9e9b58-f42d-4bc2-cc30-40d654f6050a"
      },
      "execution_count": null,
      "outputs": [
        {
          "output_type": "stream",
          "name": "stdout",
          "text": [
            "Generating output...\n",
            "Output generated. Time to generate the output: 0:00:02.335434. \n",
            "Output:\n",
            "\u001b[92mdef loads(s, strip_comments=False, **kw):\n",
            "    \"\"\"\n",
            "    Load a list of trees from a Newick formatted string.\n",
            "    \"\"\"\n",
            "    if strip_comments:\n",
            "        s = s.replace('[', '').replace(']', '')\n",
            "    return [Node.create(s, **kw) for s in s.split('\\n') if s]\n",
            "\n",
            ":param s: Newick formatted\n"
          ]
        }
      ]
    },
    {
      "cell_type": "code",
      "source": [
        "reference = codexglue_test[index]['signature'] + codexglue_test[index]['body']\n",
        "print(f'Reference: \\033[92m{reference}\\033[0m')\n",
        "print_metrics(function, generated_code)"
      ],
      "metadata": {
        "colab": {
          "base_uri": "https://localhost:8080/"
        },
        "id": "2lsLWRn6vbjE",
        "outputId": "88db6858-d909-47a6-ba1f-1886bf30093e"
      },
      "execution_count": null,
      "outputs": [
        {
          "output_type": "stream",
          "name": "stdout",
          "text": [
            "Reference: \u001b[92mdef loads(s, strip_comments=False, **kw):kw[''] = strip_comments return [parse_node(ss.strip(), **kw) for ss in s.split(';') if ss.strip()] \u001b[0m\n",
            "Results: \n",
            "edit_sim: 54\n",
            "chrf_score: 0.3766182816790898\n",
            "Generated tokens: \n",
            "\tGenerated code tokenized length: 41 \n",
            "\tReference code tokenized length: 94\n",
            "rogue_scores\n",
            "\trouge1: Score(precision=1.0, recall=0.43617021276595747, fmeasure=0.6074074074074074)\n"
          ]
        }
      ]
    },
    {
      "cell_type": "markdown",
      "source": [
        "# Kotlin code completion\n",
        "With the same methods used as for Python generation (few-shot + context)"
      ],
      "metadata": {
        "id": "v5Kf7yg1VbXk"
      }
    },
    {
      "cell_type": "code",
      "source": [
        "index = 12\n",
        "\n",
        "def create_prompt_kotlin(dataset, index, num_examples, context=None, language='Kotlin'):\n",
        "  indices = random.sample(range(len(dataset)), num_examples)\n",
        "  prefix = f'Complete code\\nLanguage: {language}\\n'\n",
        "  shots = '\\n'.join([f\"Example: {dataset.iloc[i]['signature']} {dataset.iloc[i]['body']}\" for i in indices])\n",
        "\n",
        "  data = dataset.iloc[index]\n",
        "  if context:\n",
        "    prompt = f\"{prefix}\\n{shots}\\n{context}\\nCode so far: {data['signature']}\"\n",
        "  else:\n",
        "    prompt = f\"{prefix}\\n{shots}\\nCode so far: {data['signature']}\"\n",
        "\n",
        "  return prompt\n",
        "\n",
        "prompt = create_prompt_kotlin(functions_df, index, 2)\n",
        "inputs = tokenizer(prompt, return_tensors=\"pt\", return_attention_mask=False)\n",
        "\n",
        "print(f'\\033[96mFew-shots prompt (without context of functions): \\n{prompt}\\n')"
      ],
      "metadata": {
        "id": "rm-bMXiUlsxp",
        "colab": {
          "base_uri": "https://localhost:8080/"
        },
        "outputId": "28bb1be1-c1de-4583-9bb8-a82e77054de5"
      },
      "execution_count": null,
      "outputs": [
        {
          "output_type": "stream",
          "name": "stdout",
          "text": [
            "\u001b[96mFew-shots prompt (without context of functions): \n",
            "Complete code\n",
            "Language: Kotlin\n",
            "\n",
            "Example: inline fun <T, R1, R2, R3> map3(source: MyDeferred<T>, crossinline mapper1: (T) -> R1, crossinline mapper2: (R1) -> R2, crossinline mapper3: (R2) -> R3) + =\n",
            "    async {\n",
            "        val c = suspend {\n",
            "            val c = suspend {\n",
            "                mapper1(source.await())\n",
            "            }\n",
            "            mapper2(c())\n",
            "        }\n",
            "        mapper3(c())\n",
            "    }\n",
            "Example: inline infix fun <R> inlineFun(crossinline p: () -> R) {\n",
            "        p()\n",
            "    }\n",
            "Code so far: fun assertTasksPackedToCache(vararg taskPaths: String): BuildResult\n",
            "\n"
          ]
        }
      ]
    },
    {
      "cell_type": "code",
      "source": [
        "print(\"Generating output...\")\n",
        "time = datetime.datetime.now()\n",
        "\n",
        "outputs = model.generate(**inputs, max_length=inputs['input_ids'].shape[-1] + 80)\n",
        "text_kotlin = tokenizer.batch_decode(outputs)[0]\n",
        "function = text_kotlin.split(\"Code so far: \", 1)[-1]\n",
        "function = extract_function_kotlin(function)\n",
        "\n",
        "time1 = datetime.datetime.now()\n",
        "print(f\"Output generated. Time to generate the output: {time1 - time}. \\nOutput:\")\n",
        "print(f'\\033[92m{function}')"
      ],
      "metadata": {
        "colab": {
          "base_uri": "https://localhost:8080/"
        },
        "id": "R_z-aw2NYSMk",
        "outputId": "285e1689-af41-4afc-e91b-7767e9065a13"
      },
      "execution_count": null,
      "outputs": [
        {
          "output_type": "stream",
          "name": "stdout",
          "text": [
            "Generating output...\n",
            "Output generated. Time to generate the output: 0:00:02.406653. \n",
            "Output:\n",
            "\u001b[92mfun assertTasksPackedToCache(vararg taskPaths: String): BuildResult<String, BuildResult<String, BuildResult<String, BuildResult<String, BuildResult<String, BuildResult<String, BuildResult<String, BuildResult<String, BuildResult<String, BuildResult<String, BuildResult<String, BuildResult<String, BuildResult<String, BuildResult<String, BuildResult<String, BuildResult<String, BuildResult\n"
          ]
        }
      ]
    },
    {
      "cell_type": "code",
      "source": [
        "reference = functions_df.iloc[index]['signature'] + functions_df.iloc[index]['body']\n",
        "print(f'Reference: \\033[92m{reference}\\033[0m')\n",
        "print_metrics(function, generated_code)"
      ],
      "metadata": {
        "colab": {
          "base_uri": "https://localhost:8080/"
        },
        "id": "81sZuA3jwo9R",
        "outputId": "c076eb04-45ec-4880-9922-bf08eb5ffb28"
      },
      "execution_count": null,
      "outputs": [
        {
          "output_type": "stream",
          "name": "stdout",
          "text": [
            "Reference: \u001b[92mfun assertTasksPackedToCache(vararg taskPaths: String): BuildResult{\n",
            "    taskPaths.forEach {\n",
            "        assertOutputContains(\"Stored cache entry for task '$it' with cache key \")\n",
            "    }\n",
            "}\u001b[0m\n",
            "Results: \n",
            "edit_sim: 21\n",
            "chrf_score: 1e-16\n",
            "Generated tokens: \n",
            "\tGenerated code tokenized length: 41 \n",
            "\tReference code tokenized length: 99\n",
            "rogue_scores\n",
            "\trouge1: Score(precision=0.14634146341463414, recall=0.06060606060606061, fmeasure=0.08571428571428572)\n"
          ]
        }
      ]
    },
    {
      "cell_type": "code",
      "source": [
        "# GPT-generated\n",
        "function_context = '''Function context: The assertTasksPackedToCache function verifies that cache entries have been stored for\n",
        "the provided task paths by iterating through each path and asserting that the output contains\n",
        "a specific message indicating the cache entry\\'s storage.'''\n",
        "\n",
        "prompt = create_prompt_kotlin(functions_df, index, 2, function_context)\n",
        "inputs = tokenizer(prompt, return_tensors=\"pt\", return_attention_mask=False)\n",
        "print(f'\\033[96mFew-shots prompt (with context of functions): \\n{prompt}\\n')"
      ],
      "metadata": {
        "colab": {
          "base_uri": "https://localhost:8080/"
        },
        "id": "bj-f8VRoDCca",
        "outputId": "0475d3a9-3c62-4837-8b4a-8240e194f6f3"
      },
      "execution_count": null,
      "outputs": [
        {
          "output_type": "stream",
          "name": "stdout",
          "text": [
            "\u001b[96mFew-shots prompt (with context of functions): \n",
            "Complete code\n",
            "Language: Kotlin\n",
            "\n",
            "Example: fun dangerous(): String {\n",
            "    return \"foo\"\n",
            "}\n",
            "Example: fun countFilteredSome(): Int {\n",
            "        return data.count { filterSome(it) }\n",
            "    }\n",
            "Function context: The assertTasksPackedToCache function verifies that cache entries have been stored for\n",
            "the provided task paths by iterating through each path and asserting that the output contains\n",
            "a specific message indicating the cache entry's storage.\n",
            "Code so far: fun assertTasksPackedToCache(vararg taskPaths: String): BuildResult\n",
            "\n"
          ]
        }
      ]
    },
    {
      "cell_type": "code",
      "source": [
        "print(\"Generating output...\")\n",
        "time = datetime.datetime.now()\n",
        "\n",
        "outputs = model.generate(**inputs, max_length=inputs['input_ids'].shape[-1] + 80)\n",
        "text_kotlin_context = tokenizer.batch_decode(outputs)[0]\n",
        "function = text_kotlin_context.split(\"Code so far: \", 1)[-1]\n",
        "function = extract_function_kotlin(function)\n",
        "\n",
        "time1 = datetime.datetime.now()\n",
        "print(f\"Output generated. Time to generate the output: {time1 - time}. \\nOutput:\")\n",
        "\n",
        "print(f'\\033[92m {function}')"
      ],
      "metadata": {
        "id": "o2s8H4PBGXGD",
        "colab": {
          "base_uri": "https://localhost:8080/"
        },
        "outputId": "c7c9f173-e8e3-40de-9605-a314f6f80de7"
      },
      "execution_count": null,
      "outputs": [
        {
          "output_type": "stream",
          "name": "stdout",
          "text": [
            "Generating output...\n",
            "Output generated. Time to generate the output: 0:00:02.357886. \n",
            "Output:\n",
            "\u001b[92m fun assertTasksPackedToCache(vararg taskPaths: String): BuildResult {\n",
            "    assert(taskPaths.size == 1)\n",
            "    assert(taskPaths[0] == \"foo\")\n",
            "    assert(taskPaths[0] == \"bar\")\n",
            "    assert(taskPaths[0] == \"baz\")\n",
            "    assert(taskPaths[0] == \"qux\")\n",
            "    assert(taskPaths[0\n"
          ]
        }
      ]
    },
    {
      "cell_type": "code",
      "source": [
        "reference = functions_df.iloc[index]['signature'] + functions_df.iloc[index]['body']\n",
        "print(f'Reference: \\033[92m{reference}\\033[0m')\n",
        "print_metrics(function, generated_code)"
      ],
      "metadata": {
        "colab": {
          "base_uri": "https://localhost:8080/"
        },
        "id": "BffG-kdBw7Au",
        "outputId": "b494c36c-15d5-4fdc-8f7f-d8beb850972a"
      },
      "execution_count": null,
      "outputs": [
        {
          "output_type": "stream",
          "name": "stdout",
          "text": [
            "Reference: \u001b[92mfun assertTasksPackedToCache(vararg taskPaths: String): BuildResult{\n",
            "    taskPaths.forEach {\n",
            "        assertOutputContains(\"Stored cache entry for task '$it' with cache key \")\n",
            "    }\n",
            "}\u001b[0m\n",
            "Results: \n",
            "edit_sim: 26\n",
            "chrf_score: 0.008285004142502071\n",
            "Generated tokens: \n",
            "\tGenerated code tokenized length: 41 \n",
            "\tReference code tokenized length: 99\n",
            "rogue_scores\n",
            "\trouge1: Score(precision=0.3170731707317073, recall=0.13131313131313133, fmeasure=0.18571428571428572)\n"
          ]
        }
      ]
    },
    {
      "cell_type": "markdown",
      "source": [
        "\n",
        "# LLM output control\n",
        "Since we can see that the model generates unnecessary parts and repeats some code, we can try to use some techniques for preventing it\n"
      ],
      "metadata": {
        "id": "5E51G_9B_ii_"
      }
    },
    {
      "cell_type": "code",
      "source": [
        "# Let's take the last prompt\n",
        "prompt = prompt\n",
        "print(\"Prompt:\")\n",
        "print(prompt)\n",
        "inputs = tokenizer(prompt, return_tensors=\"pt\", return_attention_mask=False)\n",
        "\n",
        "# Top-k Sampling: Sampling from the top k most likely next words\n",
        "outputs = model.generate(\n",
        "    **inputs,\n",
        "    max_length=inputs['input_ids'].shape[-1] + 80,\n",
        "    do_sample=True,\n",
        "    top_k=50\n",
        ")\n",
        "text_top_k = tokenizer.batch_decode(outputs, skip_special_tokens=True)[0]\n",
        "function = extract_function_kotlin(text_top_k.split(\"Code so far: \", 1)[-1])\n",
        "print(\"\\nGenerated text with Top-k Sampling:\")\n",
        "print(f'\\033[92m {function}')"
      ],
      "metadata": {
        "colab": {
          "base_uri": "https://localhost:8080/"
        },
        "id": "qk5ohrQY6Gmg",
        "outputId": "d4142821-9af5-4899-f930-51d8c434e3a3"
      },
      "execution_count": null,
      "outputs": [
        {
          "output_type": "stream",
          "name": "stdout",
          "text": [
            "Prompt:\n",
            "Complete code\n",
            "Language: Kotlin\n",
            "\n",
            "Example: fun dangerous(): String {\n",
            "    return \"foo\"\n",
            "}\n",
            "Example: fun countFilteredSome(): Int {\n",
            "        return data.count { filterSome(it) }\n",
            "    }\n",
            "Function context: The assertTasksPackedToCache function verifies that cache entries have been stored for\n",
            "the provided task paths by iterating through each path and asserting that the output contains\n",
            "a specific message indicating the cache entry's storage.\n",
            "Code so far: fun assertTasksPackedToCache(vararg taskPaths: String): BuildResult\n",
            "\n",
            "Generated text with Top-k Sampling:\n",
            "\u001b[92m fun assertTasksPackedToCache(vararg taskPaths: String): BuildResult = it.filter { taskPath in\n",
            "    println(\"Testing ${taskPath}\")\n",
            "    val cache = TaskCache.loaded(taskPath)\n",
            "    val results_hash = CacheUtils.get(cache.key, cache.cacheEntry)\n",
            "    println(\"  Using hash ${results_hash}\")\n",
            "    assertTrue(\"Task ${taskPath} successfully cached!\" in\n"
          ]
        }
      ]
    },
    {
      "cell_type": "code",
      "source": [
        "# Top-p (Nucleus) Sampling: Sampling from a dynamically adjusted set of words\n",
        "outputs = model.generate(\n",
        "    **inputs,\n",
        "    max_length=inputs['input_ids'].shape[-1] + 80,\n",
        "    do_sample=True,\n",
        "    top_p=0.9\n",
        ")\n",
        "text_top_p = tokenizer.batch_decode(outputs, skip_special_tokens=True)[0]\n",
        "function = extract_function_kotlin(text_top_p.split(\"Code so far: \", 1)[-1])\n",
        "print(\"\\nGenerated text with Top-p (Nucleus) Sampling:\")\n",
        "print(f'\\033[92m {function}')"
      ],
      "metadata": {
        "colab": {
          "base_uri": "https://localhost:8080/"
        },
        "id": "BZhDO6LaAvtW",
        "outputId": "356f6471-9ca5-4032-aad4-ea9e928345db"
      },
      "execution_count": null,
      "outputs": [
        {
          "output_type": "stream",
          "name": "stdout",
          "text": [
            "\n",
            "Generated text with Top-p (Nucleus) Sampling:\n",
            "\u001b[92m fun assertTasksPackedToCache(vararg taskPaths: String): BuildResult {\n",
            "    // Assert that the cache is properly configured.\n",
            "    assert thatIsNone(cache) { \"cache is not configured.\" }\n",
            "    // Assert that all of the provided task paths have their corresponding cache entry\n",
            "    // present.\n",
            "    // This step assumes that cache entries are stored for each task path\n",
            "    // sequentially.\n",
            "    for (taskPath in\n"
          ]
        }
      ]
    },
    {
      "cell_type": "code",
      "source": [
        "# Temperature Scaling: Adjusting the likelihood scores of words before sampling\n",
        "outputs = model.generate(\n",
        "    **inputs,\n",
        "    max_length=inputs['input_ids'].shape[-1] + 80,\n",
        "    do_sample=True,\n",
        "    temperature=0.7\n",
        ")\n",
        "text_temp = tokenizer.batch_decode(outputs, skip_special_tokens=True)[0]\n",
        "function = extract_function_kotlin(text_temp.split(\"Code so far: \", 1)[-1])\n",
        "print(\"\\nGenerated text with Temperature Scaling:\")\n",
        "print(f'\\033[92m {function}')"
      ],
      "metadata": {
        "colab": {
          "base_uri": "https://localhost:8080/"
        },
        "id": "gJKu2qolAxKj",
        "outputId": "eb01573c-c678-4f8b-f7cd-cda16985ccd1"
      },
      "execution_count": null,
      "outputs": [
        {
          "output_type": "stream",
          "name": "stdout",
          "text": [
            "\n",
            "Generated text with Temperature Scaling:\n",
            "\u001b[92m fun assertTasksPackedToCache(vararg taskPaths: String): BuildResult? {\n",
            "    if (taskPaths.isEmpty()) {\n",
            "        return BuildResult.success(\"Cache entry is empty!\")\n",
            "    }\n",
            "    if (taskPaths.size()!= 1) {\n",
            "        return BuildResult.failure(\"Cache entry is not a single path!\")\n",
            "    }\n",
            "    var cache = Cache.get(taskPaths[0\n"
          ]
        }
      ]
    },
    {
      "cell_type": "code",
      "source": [
        "# Repetition Penalty: Penalizing repeated tokens in the generated output\n",
        "repetition_penalty = 1.0\n",
        "outputs = model.generate(\n",
        "    **inputs,\n",
        "    max_length=inputs['input_ids'].shape[-1] + 80,\n",
        "    do_sample=True,\n",
        "    repetition_penalty=repetition_penalty\n",
        ")\n",
        "text_rep_pen = tokenizer.batch_decode(outputs, skip_special_tokens=True)[0]\n",
        "function = extract_function_kotlin(text_rep_pen.split(\"Code so far: \", 1)[-1])\n",
        "print(\"\\nGenerated text with Repetition Penalty:\")\n",
        "print(f'\\033[92m {function}')"
      ],
      "metadata": {
        "colab": {
          "base_uri": "https://localhost:8080/"
        },
        "id": "1Efi261ZAyMI",
        "outputId": "91864f9d-3865-468c-a0af-f7777d39db87"
      },
      "execution_count": null,
      "outputs": [
        {
          "output_type": "stream",
          "name": "stdout",
          "text": [
            "\n",
            "Generated text with Repetition Penalty:\n",
            "\u001b[92m fun assertTasksPackedToCache(vararg taskPaths: String): BuildResult {\n",
            "        assert \"tasksPacked\" in this.cache\n",
            "        for (taskPath: String) {\n",
            "            val cachedResult = this.cache[taskPath]\n",
            "            assertTasksPackedToCache(taskPaths, cachedResult.value)\n",
            "        }\n",
            "    }\n"
          ]
        }
      ]
    },
    {
      "cell_type": "markdown",
      "source": [
        "We will search best combinations of these parameters later"
      ],
      "metadata": {
        "id": "hijk6Hn0ES4V"
      }
    }
  ]
}